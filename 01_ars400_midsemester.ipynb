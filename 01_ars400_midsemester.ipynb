{
 "cells": [
  {
   "attachments": {},
   "cell_type": "markdown",
   "metadata": {
    "id": "nrwHuwfbapPw"
   },
   "source": [
    "## Set up\n",
    "Let us get all the libaries initialized as necessary"
   ]
  },
  {
   "cell_type": "code",
   "execution_count": 1,
   "metadata": {
    "id": "M_FL--h5apPw"
   },
   "outputs": [],
   "source": [
    "# Run this cell to set up your notebook\n",
    "import csv\n",
    "import numpy as np\n",
    "import pandas as pd\n",
    "import matplotlib.pyplot as plt\n",
    "import zipfile\n",
    "import json\n",
    "\n",
    "# Ensure that Pandas shows at least 280 characters in columns, so we can see full tweets\n",
    "pd.set_option('max_colwidth', 280)\n",
    "\n",
    "%matplotlib inline\n",
    "plt.style.use('fivethirtyeight')\n",
    "import seaborn as sns\n",
    "sns.set()\n",
    "sns.set_context(\"talk\")\n",
    "import re"
   ]
  },
  {
   "cell_type": "code",
   "execution_count": null,
   "metadata": {},
   "outputs": [],
   "source": [
    "# When you are done, run this cell to load @RutgersU 's tweets.\n",
    "# Note the function get_tweets_with_cache.  You may find it useful\n",
    "# later.\n",
    "rutgers_tweets = get_tweets_with_cache(\"RutgersU\", key_file)\n",
    "print(\"Number of tweets downloaded:\", len(rutgers_tweets))"
   ]
  },
  {
   "attachments": {},
   "cell_type": "markdown",
   "metadata": {
    "id": "usVPef0dapP2"
   },
   "source": [
    "## PART 2 - Working with Twitter Data (group and individual)\n",
    "The json file in data folder contains (to be downloaded by you) some loaded tweets from @RutgersU. Run it and read the code. You can also try other json files in the data folder to try this. "
   ]
  },
  {
   "cell_type": "code",
   "execution_count": 2,
   "metadata": {
    "id": "LtJWj1sVapP2"
   },
   "outputs": [
    {
     "ename": "NameError",
     "evalue": "name 'tweepy' is not defined",
     "output_type": "error",
     "traceback": [
      "\u001b[1;31m---------------------------------------------------------------------------\u001b[0m",
      "\u001b[1;31mNameError\u001b[0m                                 Traceback (most recent call last)",
      "\u001b[1;32mc:\\Users\\andre\\Desktop\\compsci\\intro data\\01_ars400_midsemester.ipynb Cell 5\u001b[0m in \u001b[0;36m<cell line: 8>\u001b[1;34m()\u001b[0m\n\u001b[0;32m      <a href='vscode-notebook-cell:/c%3A/Users/andre/Desktop/compsci/intro%20data/01_ars400_midsemester.ipynb#X25sZmlsZQ%3D%3D?line=5'>6</a>\u001b[0m \u001b[39m# Guarding against attempts to download the data multiple\u001b[39;00m\n\u001b[0;32m      <a href='vscode-notebook-cell:/c%3A/Users/andre/Desktop/compsci/intro%20data/01_ars400_midsemester.ipynb#X25sZmlsZQ%3D%3D?line=6'>7</a>\u001b[0m \u001b[39m# times:\u001b[39;00m\n\u001b[0;32m      <a href='vscode-notebook-cell:/c%3A/Users/andre/Desktop/compsci/intro%20data/01_ars400_midsemester.ipynb#X25sZmlsZQ%3D%3D?line=7'>8</a>\u001b[0m \u001b[39mif\u001b[39;00m \u001b[39mnot\u001b[39;00m Path(ds_tweets_save_path)\u001b[39m.\u001b[39mis_file():\n\u001b[0;32m      <a href='vscode-notebook-cell:/c%3A/Users/andre/Desktop/compsci/intro%20data/01_ars400_midsemester.ipynb#X25sZmlsZQ%3D%3D?line=8'>9</a>\u001b[0m     \u001b[39m# Getting as many recent tweets by @RutgersU as Twitter will let us have.\u001b[39;00m\n\u001b[0;32m     <a href='vscode-notebook-cell:/c%3A/Users/andre/Desktop/compsci/intro%20data/01_ars400_midsemester.ipynb#X25sZmlsZQ%3D%3D?line=9'>10</a>\u001b[0m     \u001b[39m# We use tweet_mode='extended' so that Twitter gives us full 280 character tweets.\u001b[39;00m\n\u001b[1;32m   (...)\u001b[0m\n\u001b[0;32m     <a href='vscode-notebook-cell:/c%3A/Users/andre/Desktop/compsci/intro%20data/01_ars400_midsemester.ipynb#X25sZmlsZQ%3D%3D?line=12'>13</a>\u001b[0m     \u001b[39m# The tweepy Cursor API actually returns \"sophisticated\" Status objects but we \u001b[39;00m\n\u001b[0;32m     <a href='vscode-notebook-cell:/c%3A/Users/andre/Desktop/compsci/intro%20data/01_ars400_midsemester.ipynb#X25sZmlsZQ%3D%3D?line=13'>14</a>\u001b[0m     \u001b[39m# will use the basic Python dictionaries stored in the _json field. \u001b[39;00m\n\u001b[1;32m---> <a href='vscode-notebook-cell:/c%3A/Users/andre/Desktop/compsci/intro%20data/01_ars400_midsemester.ipynb#X25sZmlsZQ%3D%3D?line=14'>15</a>\u001b[0m     example_tweets \u001b[39m=\u001b[39m [t\u001b[39m.\u001b[39m_json \u001b[39mfor\u001b[39;00m t \u001b[39min\u001b[39;00m tweepy\u001b[39m.\u001b[39mCursor(api\u001b[39m.\u001b[39muser_timeline, screen_name\u001b[39m=\u001b[39m\u001b[39m\"\u001b[39m\u001b[39mRutgersU\u001b[39m\u001b[39m\"\u001b[39m, \n\u001b[0;32m     <a href='vscode-notebook-cell:/c%3A/Users/andre/Desktop/compsci/intro%20data/01_ars400_midsemester.ipynb#X25sZmlsZQ%3D%3D?line=15'>16</a>\u001b[0m                                              tweet_mode\u001b[39m=\u001b[39m\u001b[39m'\u001b[39m\u001b[39mextended\u001b[39m\u001b[39m'\u001b[39m)\u001b[39m.\u001b[39mitems()]\n\u001b[0;32m     <a href='vscode-notebook-cell:/c%3A/Users/andre/Desktop/compsci/intro%20data/01_ars400_midsemester.ipynb#X25sZmlsZQ%3D%3D?line=17'>18</a>\u001b[0m     \u001b[39m# Saving the tweets to a json file on disk for future analysis\u001b[39;00m\n\u001b[0;32m     <a href='vscode-notebook-cell:/c%3A/Users/andre/Desktop/compsci/intro%20data/01_ars400_midsemester.ipynb#X25sZmlsZQ%3D%3D?line=18'>19</a>\u001b[0m     \u001b[39mwith\u001b[39;00m \u001b[39mopen\u001b[39m(ds_tweets_save_path, \u001b[39m\"\u001b[39m\u001b[39mw\u001b[39m\u001b[39m\"\u001b[39m) \u001b[39mas\u001b[39;00m f:        \n",
      "\u001b[1;31mNameError\u001b[0m: name 'tweepy' is not defined"
     ]
    }
   ],
   "source": [
    "from pathlib import Path\n",
    "import json\n",
    "\n",
    "ds_tweets_save_path = \"data/RutgersU_recent_tweets.json\"   # need to get this file\n",
    "\n",
    "# Guarding against attempts to download the data multiple\n",
    "# times:\n",
    "if not Path(ds_tweets_save_path).is_file():\n",
    "    # Getting as many recent tweets by @RutgersU as Twitter will let us have.\n",
    "    # We use tweet_mode='extended' so that Twitter gives us full 280 character tweets.\n",
    "    # This was a change introduced in September 2017.\n",
    "    \n",
    "    # The tweepy Cursor API actually returns \"sophisticated\" Status objects but we \n",
    "    # will use the basic Python dictionaries stored in the _json field. \n",
    "    example_tweets = [t._json for t in tweepy.Cursor(api.user_timeline, screen_name=\"RutgersU\", \n",
    "                                             tweet_mode='extended').items()]\n",
    "    \n",
    "    # Saving the tweets to a json file on disk for future analysis\n",
    "    with open(ds_tweets_save_path, \"w\") as f:        \n",
    "        json.dump(example_tweets, f)\n",
    "\n",
    "# Re-loading the json file:\n",
    "with open(ds_tweets_save_path, \"r\") as f:\n",
    "    example_tweets = json.load(f)"
   ]
  },
  {
   "attachments": {},
   "cell_type": "markdown",
   "metadata": {
    "id": "hPx2hgTcapP3"
   },
   "source": [
    "If things ran as expected, you should be able to look at the first tweet by running the code below. It probabably does not make sense to view all tweets in a notebook, as size of the tweets can freeze your browser (always a good idea to press ctrl-S to save the latest, in case you have to restart Jupyter)"
   ]
  },
  {
   "cell_type": "code",
   "execution_count": 3,
   "metadata": {
    "id": "V6YxFwAKapP3",
    "outputId": "9c8bb2ee-4f49-4f05-cc2b-546fd168dd25"
   },
   "outputs": [
    {
     "ename": "NameError",
     "evalue": "name 'example_tweets' is not defined",
     "output_type": "error",
     "traceback": [
      "\u001b[1;31m---------------------------------------------------------------------------\u001b[0m",
      "\u001b[1;31mNameError\u001b[0m                                 Traceback (most recent call last)",
      "\u001b[1;32mc:\\Users\\andre\\Desktop\\compsci\\intro data\\01_ars400_midsemester.ipynb Cell 7\u001b[0m in \u001b[0;36m<cell line: 3>\u001b[1;34m()\u001b[0m\n\u001b[0;32m      <a href='vscode-notebook-cell:/c%3A/Users/andre/Desktop/compsci/intro%20data/01_ars400_midsemester.ipynb#X30sZmlsZQ%3D%3D?line=0'>1</a>\u001b[0m \u001b[39m# Looking at one tweet object, which has type Status: \u001b[39;00m\n\u001b[0;32m      <a href='vscode-notebook-cell:/c%3A/Users/andre/Desktop/compsci/intro%20data/01_ars400_midsemester.ipynb#X30sZmlsZQ%3D%3D?line=1'>2</a>\u001b[0m \u001b[39mfrom\u001b[39;00m \u001b[39mpprint\u001b[39;00m \u001b[39mimport\u001b[39;00m pprint \u001b[39m# ...to get a more easily-readable view.\u001b[39;00m\n\u001b[1;32m----> <a href='vscode-notebook-cell:/c%3A/Users/andre/Desktop/compsci/intro%20data/01_ars400_midsemester.ipynb#X30sZmlsZQ%3D%3D?line=2'>3</a>\u001b[0m pprint(example_tweets[\u001b[39m0\u001b[39m])\n",
      "\u001b[1;31mNameError\u001b[0m: name 'example_tweets' is not defined"
     ]
    }
   ],
   "source": [
    "# Looking at one tweet object, which has type Status: \n",
    "from pprint import pprint # ...to get a more easily-readable view.\n",
    "pprint(example_tweets[0])"
   ]
  },
  {
   "attachments": {},
   "cell_type": "markdown",
   "metadata": {
    "id": "6vhrwHw5apP5"
   },
   "source": [
    "### Task 2.2\n",
    "To be consistent we are going to use the same dataset no matter what you get from your twitter api. So from this point on, if you are working as a group or individually, be sure to use the data sets provided to you in the zip file. There should be two json files inside your data folder. One is '2017-2018.json', the other one is '2016-2017.json'. We will load the '2017-2018.json' first."
   ]
  },
  {
   "cell_type": "code",
   "execution_count": null,
   "metadata": {
    "id": "kLq9NDhAapP5"
   },
   "outputs": [],
   "source": [
    "def load_tweets(path):\n",
    "    \"\"\"Loads tweets that have previously been saved.\n",
    "    \n",
    "    Calling load_tweets(path) after save_tweets(tweets, path)\n",
    "    will produce the same list of tweets.\n",
    "    \n",
    "    Args:\n",
    "        path (str): The place where the tweets will be saved.\n",
    "\n",
    "    Returns:\n",
    "        list: A list of Dictionary objects, each representing one tweet.\"\"\"\n",
    "    \n",
    "    with open(path, \"rb\") as f:\n",
    "        import json\n",
    "        return json.load(f)"
   ]
  },
  {
   "cell_type": "code",
   "execution_count": null,
   "metadata": {
    "id": "xW1xN_3XapP6"
   },
   "outputs": [],
   "source": [
    "dest_path = 'data/2017-2018.json'\n",
    "trump_tweets = load_tweets(dest_path)\n",
    "len(trump_tweets)"
   ]
  },
  {
   "attachments": {},
   "cell_type": "markdown",
   "metadata": {
    "id": "_i_aHCjSapP6"
   },
   "source": [
    "If everything is working correctly correctly this should load roughly the last 3000 tweets by `realdonaldtrump`."
   ]
  },
  {
   "cell_type": "code",
   "execution_count": null,
   "metadata": {
    "id": "xr55obB8apP6"
   },
   "outputs": [],
   "source": [
    "assert 2000 <= len(trump_tweets) <= 4000"
   ]
  },
  {
   "attachments": {},
   "cell_type": "markdown",
   "metadata": {
    "id": "WjYXBPCpapP6"
   },
   "source": [
    "If the assert statement above works, then continue on to task 2.3.\n",
    "\n",
    "### Task 2.3\n",
    "\n",
    "Find the number of the month of the oldest tweet."
   ]
  },
  {
   "cell_type": "code",
   "execution_count": null,
   "metadata": {
    "id": "lYPMcwPdapP6"
   },
   "outputs": [],
   "source": [
    "# Enter the number of the month of the oldest tweet (e.g. 1 for January)\n",
    "\n",
    "oldest_month = 10\n",
    "trump_tweets = pd.DataFrame(trump_tweets)\n",
    "\n",
    "### BEGIN ANSWER\n",
    "trump_tweets.sort_values('id',ascending = False)\n",
    "    # your solution here\n",
    "\n",
    "### END ANSWER"
   ]
  },
  {
   "attachments": {},
   "cell_type": "markdown",
   "metadata": {
    "id": "cNdIIfM4apP6"
   },
   "source": [
    "## PART 3  Twitter Source Analysis (group and individual)\n",
    "\n"
   ]
  },
  {
   "attachments": {},
   "cell_type": "markdown",
   "metadata": {
    "id": "bnZTwTGRapP6"
   },
   "source": [
    "### Task 3.1\n",
    "\n",
    "Create a new data frame from `2016-2017.json` and merge with `trump_tweets` \n",
    "\n",
    "**Important:** There may/will be some overlap so be sure to __eliminate duplicate tweets__. If you do not eliminate the duplicates properly, your results might not be compatible with the test solution. \n",
    "**Hint:** the `id` of a tweet is always unique."
   ]
  },
  {
   "cell_type": "code",
   "execution_count": null,
   "metadata": {
    "id": "UKw0vaWTapP6"
   },
   "outputs": [],
   "source": [
    "# if you do not have new tweets, then all_tweets is the same as  old_trump_tweets\n",
    "\n",
    "### BEGIN ANSWER\n",
    "dest_path1 = 'data/2016-2017.json'\n",
    "trump_tweets1 = load_tweets(dest_path1)\n",
    "trump_tweets1 = pd.DataFrame(trump_tweets1)\n",
    "# trump_tweets1\n",
    "trump_tweets1.rename({'text': 'full_text'}, axis='columns',inplace = True)\n",
    "all_tweets = pd.concat([trump_tweets,trump_tweets1])\n",
    "all_tweets['id'] = all_tweets['id'].astype('int64')\n",
    "# all_tweets.drop_duplicates(subset=['id'])\n",
    "# all_tweets.sort_values(by = [\"id\"], inplace=True)\n",
    "all_tweets.drop_duplicates(subset=['id'], inplace=True)\n",
    "all_tweets\n",
    "# all_tweets.loc[all_tweets['full_text']=='']\n",
    "### END ANSWER\n",
    "# assert(all_tweets.size == 321408) \n"
   ]
  },
  {
   "attachments": {},
   "cell_type": "markdown",
   "metadata": {
    "id": "w2f3pX1TapP6"
   },
   "source": [
    "### Task 3.2\n",
    "Construct a DataFrame called `df_trump` containing all the tweets stored in `all_tweets`. The index of the dataframe should be the ID of each tweet (looks something like `907698529606541312`). It should have these columns:\n",
    "\n",
    "- `time`: The time the tweet was created encoded as a datetime object. (Use `pd.to_datetime` to encode the timestamp.)\n",
    "- `source`: The source device of the tweet.\n",
    "- `text`: The text of the tweet.\n",
    "- `retweet_count`: The retweet count of the tweet. \n",
    "\n",
    "Finally, **the resulting dataframe should be sorted by the index.**\n",
    "\n",
    "**Warning:** *Some tweets will store the text in the `text` field and other will use the `full_text` field.*\n",
    "\n",
    "**Warning:** *Don't forget to check the type of index*"
   ]
  },
  {
   "cell_type": "code",
   "execution_count": null,
   "metadata": {
    "id": "BaBrQPLNapP6"
   },
   "outputs": [],
   "source": [
    "### BEGIN ANSWER\n",
    "df_trump = all_tweets[['id','created_at', 'source', 'full_text', 'retweet_count']].copy()\n",
    "df_trump = df_trump.rename(columns={\"created_at\": \"time\"})\n",
    "df_trump['time'] = pd.to_datetime(df_trump['time'],format = '%a %b %d %H:%M:%S %z %Y')\n",
    "df_trump['id'] = df_trump['id'].astype(int)\n",
    "df_trump = df_trump.set_index('id')\n",
    "df_trump\n",
    "print(len(df_trump))\n",
    "\n",
    "### END ANSWER"
   ]
  },
  {
   "attachments": {},
   "cell_type": "markdown",
   "metadata": {
    "id": "w8WbUgNBapP7"
   },
   "source": [
    "In the following questions, we are going to find out the charateristics of Trump tweets and the devices used for the tweets.\n",
    "\n",
    "First let's examine the source field:"
   ]
  },
  {
   "cell_type": "code",
   "execution_count": null,
   "metadata": {
    "id": "NiXXHDmpapP7"
   },
   "outputs": [],
   "source": [
    "df_trump['source'].unique()"
   ]
  },
  {
   "attachments": {},
   "cell_type": "markdown",
   "metadata": {
    "id": "pR-pQJ-FapP7"
   },
   "source": [
    "## Task 3.3\n",
    "\n",
    "Remove the HTML tags from the source field. \n",
    "\n",
    "**Hint:** Use `df_trump['source'].str.replace` and your favorite regular expression."
   ]
  },
  {
   "cell_type": "code",
   "execution_count": null,
   "metadata": {
    "id": "uys4JaIuapP7"
   },
   "outputs": [],
   "source": [
    "import re\n",
    "### BEGIN ANSWER\n",
    "df_trump['source'] = df_trump['source'].str.replace('<.*?>',  '', regex = True)\n",
    "# df_trump.dtypes\n",
    "### END ANSWER"
   ]
  },
  {
   "attachments": {},
   "cell_type": "markdown",
   "metadata": {
    "id": "PZo4QU7MapP7"
   },
   "source": [
    "### Make a plot to find out the most common device types used in accessing twitter\n",
    "\n",
    "Sort the plot in decreasing order of the most common device type"
   ]
  },
  {
   "cell_type": "code",
   "execution_count": null,
   "metadata": {
    "id": "WOdz32WZapP7"
   },
   "outputs": [],
   "source": [
    "### BEGIN ANSWER\n",
    "list1 = df_trump['source'].value_counts().keys().tolist()\n",
    "list2 = df_trump['source'].value_counts().tolist()\n",
    "d={'Source':list1,'Values':list2}\n",
    "plot_df = pd.DataFrame(d)\n",
    "#list2 =  (calls['OFNS_DESC'].value_counts().keys())\n",
    "ax = plot_df.plot.bar(x='Source', y='Values')\n",
    "\n",
    "### END ANSWER"
   ]
  },
  {
   "attachments": {},
   "cell_type": "markdown",
   "metadata": {
    "id": "ZatUeX2capP7"
   },
   "source": [
    "### Task 3.4\n",
    "Is there a difference between his Tweet behavior across these devices? We will attempt to answer this question in our subsequent analysis.\n",
    "\n",
    "First, we'll take a look at whether Trump's tweets from an Android come at different times than his tweets from an iPhone. Note that Twitter gives us his tweets in the [UTC timezone](https://www.wikiwand.com/en/List_of_UTC_time_offsets) (notice the `+0000` in the first few tweets)\n",
    "\n",
    "**Note** - If your `time` column is not in datetime format, the following code will not work."
   ]
  },
  {
   "cell_type": "code",
   "execution_count": null,
   "metadata": {
    "id": "VhBLwCxcapP7"
   },
   "outputs": [],
   "source": [
    "df_trump['time'][0:3]"
   ]
  },
  {
   "attachments": {},
   "cell_type": "markdown",
   "metadata": {
    "id": "CN0KG6ktapP7"
   },
   "source": [
    "We'll convert the tweet times to US Eastern Time, the timezone of New York and Washington D.C., since those are the places we would expect the most tweet activity from Trump."
   ]
  },
  {
   "cell_type": "code",
   "execution_count": null,
   "metadata": {
    "id": "0uB-3WK4apP7"
   },
   "outputs": [],
   "source": [
    "df_trump['est_time'] = (\n",
    "    df_trump['time'] # Set initial timezone to UTC\n",
    "                 .dt.tz_convert(\"EST\") # Convert to Eastern Time\n",
    ")\n",
    "df_trump.head()"
   ]
  },
  {
   "attachments": {},
   "cell_type": "markdown",
   "metadata": {
    "id": "pTusdoO5apP7"
   },
   "source": [
    "**What you need to do:**\n",
    "\n",
    "Add a column called `hour` to the `df_trump` table which contains the hour of the day as floating point number computed by:\n",
    "\n",
    "$$\n",
    "\\text{hour} + \\frac{\\text{minute}}{60} + \\frac{\\text{second}}{60^2}\n",
    "$$"
   ]
  },
  {
   "cell_type": "code",
   "execution_count": null,
   "metadata": {
    "id": "UhkJKBxeapP8"
   },
   "outputs": [],
   "source": [
    "df_trump['hour'] = df_trump['est_time'].dt.hour + (df_trump['time'].dt.minute) / 60 + (df_trump['time'].dt.second / 3600)\n",
    "df_trump['roundhour']=round(df_trump['hour'])\n",
    "# df_trump['hour']\n",
    "# df_trump['roundhour']\n",
    "# df_trump.dtypes"
   ]
  },
  {
   "cell_type": "code",
   "execution_count": null,
   "metadata": {
    "id": "EkFBxTQOapP8"
   },
   "outputs": [],
   "source": [
    "assert np.isclose(df_trump.loc[690171032150237184]['hour'], 8.93639)"
   ]
  },
  {
   "attachments": {},
   "cell_type": "markdown",
   "metadata": {
    "id": "Ib6CTpMTapP8"
   },
   "source": [
    "Use the `roundhour` column and plot the number of tweets at every hour of the day.\n",
    "Order the plot using the hour of the day (1 to 24). Use seaborn `countplot`"
   ]
  },
  {
   "cell_type": "code",
   "execution_count": null,
   "metadata": {
    "id": "MQkwODiAapP8"
   },
   "outputs": [],
   "source": [
    "# make a bar plot here\n",
    "### BEGIN ANSWER\n",
    "plot1 = sns.countplot(x ='roundhour', data = df_trump)\n",
    "plot1.set_xticklabels(plot1.get_xticklabels(), rotation=90)\n",
    "### END ANSWER"
   ]
  },
  {
   "attachments": {},
   "cell_type": "markdown",
   "metadata": {
    "id": "mGD_SCtAapP8"
   },
   "source": [
    "Now, use this data along with the seaborn `distplot` function to examine the distribution over hours of the day in eastern time that trump tweets on each device for the 2 most commonly used devices.  Your plot should look somewhat similar to the following.\n",
    "<img src=\"images/device_hour2.png\" align=\"left\" alt=\"Drawing\" style=\"width: 400px;\"/>\n"
   ]
  },
  {
   "cell_type": "code",
   "execution_count": null,
   "metadata": {
    "id": "_lXwAyKFapP8"
   },
   "outputs": [],
   "source": [
    "### BEGIN ANSWER\n",
    "fig = plt.figure(figsize=(14,10));\n",
    "iphone = df_trump.loc[df_trump['source'] =='Twitter for iPhone' ]\n",
    "sns.distplot(iphone['hour'], hist=False, label=\"iphone\")\n",
    "android = df_trump.loc[df_trump['source'] =='Twitter for Android']\n",
    "sns.distplot(android['hour'], hist=False, label=\"android\")\n",
    "plt.xlabel('Hour', fontsize=15);\n",
    "plt.ylabel('Fraction', fontsize=15);\n",
    "fig.legend(labels=['iphone','android']);\n",
    "### END ANSWER"
   ]
  },
  {
   "attachments": {},
   "cell_type": "markdown",
   "metadata": {
    "id": "L1jbqJBqapP8"
   },
   "source": [
    "### Task 3.5\n",
    "\n",
    "According to [this Verge article](https://www.theverge.com/2017/3/29/15103504/donald-trump-iphone-using-switched-android), Donald Trump switched from an Android to an iPhone sometime in March 2017.\n",
    "\n",
    "Create a figure identical to your figure from 3.4, except that you should show the results only from 2016. If you get stuck consider looking at the `year_fraction` function from the next problem.\n",
    "\n",
    "Use this data along with the seaborn `distplot` function to examine the distribution over hours of the day in eastern time that trump tweets on each device for the 2 most commonly used devices.  Your plot should look somewhat similar to the following. \n",
    "\n",
    "During the campaign, it was theorized that Donald Trump's tweets from Android were written by him personally, and the tweets from iPhone were from his staff. Does your figure give support the theory?\n",
    "\n",
    "Response: In 2016, the time allocation for the usage of the iphone centered in the afternoon, while his tweets from 2015 to present shows that he mostly tweets in the morning. It seems that the tweets from iphone in 2016 were from his staff, not himself."
   ]
  },
  {
   "attachments": {},
   "cell_type": "markdown",
   "metadata": {
    "id": "BKGr1_ULapP8"
   },
   "source": [
    "\\\\\n",
    "<img src=\"images/device_hour2.png\" align=\"left\" alt=\"Drawing\" style=\"width: 600px;\"/>\n"
   ]
  },
  {
   "cell_type": "code",
   "execution_count": 1,
   "metadata": {
    "id": "QHtptHMCapP8"
   },
   "outputs": [
    {
     "ename": "NameError",
     "evalue": "name 'plt' is not defined",
     "output_type": "error",
     "traceback": [
      "\u001b[1;31m---------------------------------------------------------------------------\u001b[0m",
      "\u001b[1;31mNameError\u001b[0m                                 Traceback (most recent call last)",
      "\u001b[1;32mc:\\Users\\andre\\Desktop\\compsci\\intro data\\01_ars400_midsemester.ipynb Cell 58\u001b[0m in \u001b[0;36m2\n\u001b[0;32m      <a href='vscode-notebook-cell:/c%3A/Users/andre/Desktop/compsci/intro%20data/01_ars400_midsemester.ipynb#Y111sZmlsZQ%3D%3D?line=0'>1</a>\u001b[0m \u001b[39m### BEGIN ANSWER\u001b[39;00m\n\u001b[1;32m----> <a href='vscode-notebook-cell:/c%3A/Users/andre/Desktop/compsci/intro%20data/01_ars400_midsemester.ipynb#Y111sZmlsZQ%3D%3D?line=1'>2</a>\u001b[0m fig \u001b[39m=\u001b[39m plt\u001b[39m.\u001b[39mfigure(figsize\u001b[39m=\u001b[39m(\u001b[39m14\u001b[39m,\u001b[39m10\u001b[39m));\n\u001b[0;32m      <a href='vscode-notebook-cell:/c%3A/Users/andre/Desktop/compsci/intro%20data/01_ars400_midsemester.ipynb#Y111sZmlsZQ%3D%3D?line=2'>3</a>\u001b[0m one_year \u001b[39m=\u001b[39m df_trump\u001b[39m.\u001b[39mloc[df_trump[\u001b[39m'\u001b[39m\u001b[39mtime\u001b[39m\u001b[39m'\u001b[39m]\u001b[39m.\u001b[39mdt\u001b[39m.\u001b[39myear \u001b[39m==\u001b[39m \u001b[39m2016\u001b[39m]\n\u001b[0;32m      <a href='vscode-notebook-cell:/c%3A/Users/andre/Desktop/compsci/intro%20data/01_ars400_midsemester.ipynb#Y111sZmlsZQ%3D%3D?line=3'>4</a>\u001b[0m one_year\n",
      "\u001b[1;31mNameError\u001b[0m: name 'plt' is not defined"
     ]
    }
   ],
   "source": [
    "### BEGIN ANSWER\n",
    "fig = plt.figure(figsize=(14,10));\n",
    "one_year = df_trump.loc[df_trump['time'].dt.year == 2016]\n",
    "one_year\n",
    "iphone = one_year.loc[one_year['source'] =='Twitter for iPhone' ]\n",
    "sns.distplot(iphone['hour'], hist=False, label=\"iphone\")\n",
    "android = one_year.loc[one_year['source'] =='Twitter for Android']\n",
    "sns.distplot(android['hour'], hist=False, label=\"android\")\n",
    "plt.xlabel('Hour', fontsize=15);\n",
    "plt.ylabel('Fraction', fontsize=15);\n",
    "fig.legend(labels=['iphone','android']);\n",
    "### END ANSWER"
   ]
  },
  {
   "attachments": {},
   "cell_type": "markdown",
   "metadata": {
    "id": "1XFRyB9FapP8"
   },
   "source": [
    "### Task 3.6\n",
    "Edit this cell to answer the following questions.\n",
    "* What time of the day the Android tweets were made by Trump himself? (eg: morning, late night etc)\n",
    "    \n",
    "        The afternoon into evening seems to be when Donald Trump was active on twitter\n",
    "\n",
    "* What time of the day the Android tweets were made by paid staff?\n",
    "        \n",
    "        The middle of the night into evening seems to be when the paid staff was active on twitter\n",
    "\n",
    "Note that these are speculations based on what you observe in the data set."
   ]
  },
  {
   "attachments": {},
   "cell_type": "markdown",
   "metadata": {
    "id": "P0zbpLZUapP9"
   },
   "source": [
    "### Task 3.7 Device Analysis\n",
    "Let's now look at which device he has used over the entire time period of this dataset.\n",
    "\n",
    "To examine the distribution of dates we will convert the date to a fractional year that can be plotted as a distribution.\n",
    "\n",
    "(Code borrowed from https://stackoverflow.com/questions/6451655/python-how-to-convert-datetime-dates-to-decimal-years)"
   ]
  },
  {
   "cell_type": "code",
   "execution_count": null,
   "metadata": {
    "id": "4OEbR4afapP9"
   },
   "outputs": [],
   "source": [
    "import datetime\n",
    "def year_fraction(date):\n",
    "    start = datetime.date(date.year, 1, 1).toordinal()\n",
    "    year_length = datetime.date(date.year+1, 1, 1).toordinal() - start\n",
    "    return date.year + float(date.toordinal() - start) / year_length\n",
    "\n",
    "\n",
    "df_trump['year'] = df_trump['time'].apply(year_fraction) #should be df_trump"
   ]
  },
  {
   "attachments": {},
   "cell_type": "markdown",
   "metadata": {
    "id": "7j4xEBAOapP9"
   },
   "source": [
    "Use the `sns.distplot` to overlay the distributions of the 2 most frequently used web technologies over the years.  Your final plot should be similar to:\n",
    "\n",
    "![title](images/source_years.png)"
   ]
  },
  {
   "cell_type": "code",
   "execution_count": null,
   "metadata": {
    "id": "oRdFIObiapP9"
   },
   "outputs": [],
   "source": [
    "#plt.figure(figsize=(15,15))\n",
    "### BEGIN ANSWER\n",
    "fig = plt.figure(figsize=(14,10));\n",
    "iphone = df_trump.loc[df_trump['source'] =='Twitter for iPhone' ]\n",
    "sns.distplot(iphone['year'], hist=True, label=\"iphone\")\n",
    "android = df_trump.loc[df_trump['source'] =='Twitter for Android']\n",
    "sns.distplot(android['year'], hist=True, label=\"android\")\n",
    "fig.legend(labels=['iphone','android']);\n",
    "### END ANSWER"
   ]
  },
  {
   "attachments": {},
   "cell_type": "markdown",
   "metadata": {
    "id": "Nn0opKxWapP9"
   },
   "source": [
    "## PART 4 - Sentiment Analysis  (group and individual)\n",
    "\n",
    "It turns out that we can use the words in Trump's tweets to calculate a measure of the sentiment of the tweet. For example, the sentence \"I love America!\" has positive sentiment, whereas the sentence \"I hate taxes!\" has a negative sentiment. In addition, some words have stronger positive / negative sentiment than others: \"I love America.\" is more positive than \"I like America.\"\n",
    "\n",
    "We will use the [VADER (Valence Aware Dictionary and sEntiment Reasoner)](https://github.com/cjhutto/vaderSentiment) lexicon to analyze the sentiment of Trump's tweets. VADER is a lexicon and rule-based sentiment analysis tool that is specifically attuned to sentiments expressed in social media which is great for our usage.\n",
    "\n",
    "The VADER lexicon gives the sentiment of individual words. Run the following cell to show the first few rows of the lexicon:"
   ]
  },
  {
   "cell_type": "code",
   "execution_count": null,
   "metadata": {
    "id": "NICSCaj_apP9",
    "outputId": "f2ddb09d-b75a-41c9-a12b-89eec667c346"
   },
   "outputs": [],
   "source": [
    "print(''.join(open(\"data/vader_lexicon.txt\").readlines()[:10]))"
   ]
  },
  {
   "attachments": {},
   "cell_type": "markdown",
   "metadata": {
    "id": "Cqr5pItGapP9"
   },
   "source": [
    "### Task 4.1\n",
    "\n",
    "As you can see, the lexicon contains emojis too! The first column of the lexicon is the *token*, or the word itself. The second column is the *polarity* of the word, or how positive / negative it is.\n",
    "\n",
    "(How did they decide the polarities of these words? What are the other two columns in the lexicon? See the link above.)\n",
    "\n",
    " Read in the lexicon into a DataFrame called `df_sent`. The index of the DF should be the tokens in the lexicon. `df_sent` should have one column: `polarity`: The polarity of each token."
   ]
  },
  {
   "cell_type": "code",
   "execution_count": null,
   "metadata": {
    "id": "TR_upovHapP9"
   },
   "outputs": [],
   "source": [
    "### BEGIN ANSWER\n",
    "df_sent = pd.read_csv(\"data/vader_lexicon.txt\", sep=\"\\t\", header=None)\n",
    "df_sent = df_sent.set_index(df_sent.columns[0])\n",
    "df_sent = df_sent.drop(columns=[2,3])\n",
    "df_sent = df_sent.rename(columns = {1: 'polarity'})\n",
    "df_sent\n",
    "### END ANSWER"
   ]
  },
  {
   "attachments": {},
   "cell_type": "markdown",
   "metadata": {
    "id": "rP0VMBSFapP9"
   },
   "source": [
    "### Task 4.2\n",
    "\n",
    "Now, let's use this lexicon to calculate the overall sentiment for each of Trump's tweets. Here's the basic idea:\n",
    "\n",
    "1. For each tweet, find the sentiment of each word.\n",
    "2. Calculate the sentiment of each tweet by taking the sum of the sentiments of its words.\n",
    "\n",
    "First, let's lowercase the text in the tweets since the lexicon is also lowercase. Set the `text` column of the `df_trump` DF to be the lowercased text of each tweet."
   ]
  },
  {
   "cell_type": "code",
   "execution_count": null,
   "metadata": {
    "id": "s5sBadfbapP9"
   },
   "outputs": [],
   "source": [
    "### BEGIN ANSWER\n",
    "df_trump['full_text'] = df_trump['full_text'].str.lower()\n",
    "df_trump\n",
    "### END ANSWER"
   ]
  },
  {
   "attachments": {},
   "cell_type": "markdown",
   "metadata": {
    "id": "cqK4HQNVapP-"
   },
   "source": [
    "### Task 4.3\n",
    "\n",
    "Now, let's get rid of punctuation since it'll cause us to fail to match words. Create a new column called `no_punc` in the `df_trump` to be the lowercased text of each tweet with all punctuation replaced by a single space. We consider punctuation characters to be any character that isn't a Unicode word character or a whitespace character. You may want to consult the Python documentation on regexes for this problem.\n",
    "\n",
    "(Why don't we simply remove punctuation instead of replacing with a space? See if you can figure this out by looking at the tweet data.)"
   ]
  },
  {
   "cell_type": "code",
   "execution_count": null,
   "metadata": {
    "id": "QNAvW1axapP-"
   },
   "outputs": [],
   "source": [
    "# Save your regex in punct_re\n",
    "punct_re = r'[^\\w\\s\\\\n]'\n",
    "\n",
    "### BEGIN ANSWER\n",
    "df_trump['no_punc'] = df_trump['full_text'].str.replace(punct_re, '', regex = True)\n",
    "# df_trump\n",
    "### END ANSWER"
   ]
  },
  {
   "cell_type": "code",
   "execution_count": null,
   "metadata": {
    "id": "fmaOn2D7apP-"
   },
   "outputs": [],
   "source": [
    "assert isinstance(punct_re, str)\n",
    "assert re.search(punct_re, 'this') is None\n",
    "assert re.search(punct_re, 'this is ok') is None\n",
    "assert re.search(punct_re, 'this is\\nok') is None\n",
    "assert re.search(punct_re, 'this is not ok.') is not None\n",
    "assert re.search(punct_re, 'this#is#ok') is not None\n",
    "assert re.search(punct_re, 'this^is ok') is not None\n",
    "assert df_trump['no_punc'].loc[800329364986626048] == 'i watched parts of nbcsnl saturday night live last night it is a totally onesided biased show  nothing funny at all equal time for us'\n",
    "assert df_trump['full_text'].loc[884740553040175104] == 'working hard to get the olympics for the united states (l.a.). stay tuned!'"
   ]
  },
  {
   "attachments": {},
   "cell_type": "markdown",
   "metadata": {
    "id": "2KsT--c-apP-"
   },
   "source": [
    "### Task 4.4\n",
    "\n",
    "\n",
    "Now, let's convert the tweets into what's called a [*tidy format*](https://cran.r-project.org/web/packages/tidyr/vignettes/tidy-data.html) to make the sentiments easier to calculate. Use the `no_punc` column of `df_trump` to create a table called `tidy_format`. The index of the table should be the IDs of the tweets, repeated once for every word in the tweet. It has two columns:\n",
    "\n",
    "1. `num`: The location of the word in the tweet. For example, if the tweet was \"i love america\", then the location of the word \"i\" is 0, \"love\" is 1, and \"america\" is 2.\n",
    "2. `word`: The individual words of each tweet.\n",
    "\n",
    "The first few rows of our `tidy_format` table look like:\n",
    "\n",
    "<table border=\"1\" class=\"dataframe\">\n",
    "  <thead>\n",
    "    <tr style=\"text-align: right;\">\n",
    "      <th></th>\n",
    "      <th>num</th>\n",
    "      <th>word</th>\n",
    "    </tr>\n",
    "  </thead>\n",
    "  <tbody>\n",
    "    <tr>\n",
    "      <th>894661651760377856</th>\n",
    "      <td>0</td>\n",
    "      <td>i</td>\n",
    "    </tr>\n",
    "    <tr>\n",
    "      <th>894661651760377856</th>\n",
    "      <td>1</td>\n",
    "      <td>think</td>\n",
    "    </tr>\n",
    "    <tr>\n",
    "      <th>894661651760377856</th>\n",
    "      <td>2</td>\n",
    "      <td>senator</td>\n",
    "    </tr>\n",
    "    <tr>\n",
    "      <th>894661651760377856</th>\n",
    "      <td>3</td>\n",
    "      <td>blumenthal</td>\n",
    "    </tr>\n",
    "    <tr>\n",
    "      <th>894661651760377856</th>\n",
    "      <td>4</td>\n",
    "      <td>should</td>\n",
    "    </tr>\n",
    "  </tbody>\n",
    "</table>\n",
    "\n",
    "You can double check that your tweet with ID `894661651760377856` has the same rows as ours. Our tests don't check whether your table looks exactly like ours.\n",
    "\n",
    "As usual, try to avoid using any for loops. Our solution uses a chain of 5 methods on the 'trump' DF, albeit using some rather advanced Pandas hacking.\n",
    "\n",
    "* **Hint 1:** Try looking at the `expand` argument to pandas' `str.split`.\n",
    "\n",
    "* **Hint 2:** Try looking at the `stack()` method.\n",
    "\n",
    "* **Hint 3:** Try looking at the `level` parameter of the `reset_index` method."
   ]
  },
  {
   "cell_type": "code",
   "execution_count": null,
   "metadata": {
    "id": "BqaENYt3apP-"
   },
   "outputs": [],
   "source": [
    "#tidy_format = ...\n",
    "\n",
    "### BEGIN ANSWER\n",
    "tidy_format =df_trump['no_punc'].str.split(expand = True).stack().reset_index()\n",
    "tidy_format = tidy_format.set_index('id')\n",
    "tidy_format.columns = ['num', 'word']\n",
    "tidy_format.dtypes\n",
    "### END ANSWER"
   ]
  },
  {
   "cell_type": "code",
   "execution_count": null,
   "metadata": {
    "id": "WPHMJKK1apP-"
   },
   "outputs": [],
   "source": [
    "assert tidy_format.loc[894661651760377856].shape == (27, 2)\n",
    "assert ' '.join(list(tidy_format.loc[894661651760377856]['word'])) == 'i think senator blumenthal should take a nice long vacation in vietnam where he lied about his service so he can at least say he was there'"
   ]
  },
  {
   "attachments": {},
   "cell_type": "markdown",
   "metadata": {
    "id": "LCkJmueyapP-"
   },
   "source": [
    "### Task 4.5\n",
    "\n",
    "Now that we have this table in the tidy format, it becomes much easier to find the sentiment of each tweet: we can join the table with the lexicon table. \n",
    "\n",
    "Add a `polarity` column to the `df_trump` table.  The `polarity` column should contain the sum of the sentiment polarity of each word in the text of the tweet.\n",
    "\n",
    "**Hint** you will need to merge the `tidy_format` and `df_sent` tables and group the final answer.\n"
   ]
  },
  {
   "cell_type": "code",
   "execution_count": null,
   "metadata": {
    "id": "Aem_gXlMapP-"
   },
   "outputs": [],
   "source": [
    "#df_trump['polarity'] = ...\n",
    "\n",
    "### BEGIN ANSWER\n",
    "# df_trump['polarity'] = tidy_format.merge(df_sent, how = \"inner\", left_on = \"word\", right_index=True).groupby('id').sum()\n",
    "df_trump['polarity'] = tidy_format.merge(df_sent, how = \"inner\", left_on = \"word\", right_index=True).groupby('id').sum()[['polarity']]\n",
    "df_trump\n",
    "df_trump = df_trump.fillna(value=0)\n",
    "df_trump\n",
    "\n",
    "### END ANSWER"
   ]
  },
  {
   "cell_type": "code",
   "execution_count": null,
   "metadata": {
    "id": "mhgNONHiapP-"
   },
   "outputs": [],
   "source": [
    "assert np.allclose(df_trump.loc[744701872456536064, 'polarity'], 8.4)\n",
    "assert np.allclose(df_trump.loc[745304731346702336, 'polarity'], 2.5)\n",
    "assert np.allclose(df_trump.loc[744519497764184064, 'polarity'], 1.7)\n",
    "assert np.allclose(df_trump.loc[894661651760377856, 'polarity'], 0.2)\n",
    "assert np.allclose(df_trump.loc[894620077634592769, 'polarity'], 5.4)\n",
    "# If you fail this test, you dropped tweets with 0 polarity\n",
    "#assert np.allclose(df_trump.loc[744355251365511169, 'polarity'], 0.0)\n"
   ]
  },
  {
   "attachments": {},
   "cell_type": "markdown",
   "metadata": {
    "id": "7iNmWEDNapP-"
   },
   "source": [
    "### Task 4.6\n",
    "Now we have a measure of the sentiment of each of his tweets! You can read over the VADER readme to understand a more robust sentiment analysis.\n",
    "Now, write the code to see the most positive and most negative tweets from Trump in your dataset:\n",
    "Find the most negative and most positive tweets made by Trump"
   ]
  },
  {
   "cell_type": "code",
   "execution_count": null,
   "metadata": {
    "id": "MFanLgGlapP-"
   },
   "outputs": [],
   "source": [
    "print('Most negative tweets:')\n",
    "\n",
    "### BEGIN ANSWER\n",
    "for t in df_trump.sort_values('polarity').head()['full_text']:\n",
    "    print('\\n  ', t)\n",
    "\n",
    "### END ANSWER"
   ]
  },
  {
   "cell_type": "code",
   "execution_count": null,
   "metadata": {
    "id": "b66zMSi6apP_"
   },
   "outputs": [],
   "source": [
    "print('Most positive tweets:')\n",
    "\n",
    "### BEGIN ANSWER\n",
    "for t in df_trump.sort_values('polarity', ascending = False).head()['full_text']:\n",
    "    print('\\n  ', t)\n",
    "### END ANSWER"
   ]
  },
  {
   "attachments": {},
   "cell_type": "markdown",
   "metadata": {
    "id": "rBTcV47lapP_"
   },
   "source": [
    "### Task 4.7\n",
    "Plot the distribution of tweet sentiments broken down by whether the text of the tweet contains `nyt` or `fox`.  Then in the box below comment on what we observe?\n",
    "\n",
    "![title](images/nyt_vs_fox.png)"
   ]
  },
  {
   "cell_type": "code",
   "execution_count": null,
   "metadata": {
    "id": "0ktQdImsapP_"
   },
   "outputs": [],
   "source": [
    "### BEGIN ANSWER\n",
    "fox = df_trump[df_trump['no_punc'].str.contains('fox')]['polarity']\n",
    "nyt = df_trump[df_trump['no_punc'].str.contains('nyt')]['polarity']\n",
    "sns.distplot(nyt, label = 'nyt')\n",
    "sns.distplot(fox, label = 'fox')\n",
    "\n",
    "### END ANSWER"
   ]
  },
  {
   "attachments": {},
   "cell_type": "markdown",
   "metadata": {
    "id": "-Z4exTkuapP_"
   },
   "source": [
    "##### Comment on what you observe:\n",
    "\n",
    "#### BEGIN ANSWER\n",
    "\n",
    "\n",
    "#### END ANSWER"
   ]
  },
  {
   "attachments": {},
   "cell_type": "markdown",
   "metadata": {
    "id": "RnpgkUcpapP_"
   },
   "source": [
    "## PART 5 - Principal Component Analysis (PCA) and Twitter  (group and individual)\n",
    "A look at the top words used and the sentiments expressed in Trump tweets indicates that, some words are used with others almost all the time. A notable example is the slogan like Make America Great Again. As such, it may be beneficial to look at groups of words rather than individual words. For that, we will look at an approach applying a Principal Component Analysis. \n",
    "\n",
    "### The PCA\n",
    "The Principal Component Analysis, or PCA, is a tool generally used to identify patterns and to reduce the number of variables you have to consider in your analysis. For example, if you have data with 200 columns, it may be that a significant amount of the variance in your data can be explained by just 100 principal components. In the PCA, the first component is chosen in such a way that has the largest variance, subsequent components are orthogonal and continue covering as much variance as possible. In this way, the PCA samples as much of the variability in the data set with the first few components. Mathematically, each component is a linear combination of all the input parameters times coefficients specific for that component. These coefficients, or loading factors, are constrained such that the sum of the squares of them are equal to 1. As such, the loading factors serve as weights describing how strongly certain parameters contribute to the specific principal component. Parameters with large values of positive or negative loading factors are correlated with each other, which can serve to identify trends in your data."
   ]
  },
  {
   "attachments": {},
   "cell_type": "markdown",
   "metadata": {
    "id": "o9zY4IQFapP_"
   },
   "source": [
    "import nltk\n",
    "import nltk.corpus\n",
    "nltk.download('stopwords')\n",
    "nltk.download('wordnet')### Task 5.1 Cleaning up the Data\n",
    "Using NLTK (Natural Language Toolkit) package for language processing and other python libraries, parse the json file to deal with inflected words, such as plurals, and removed stop words like common English words (the, and, it, etc) and certain political terms (the candidates names, for example). You can start with the top 50 words, but full analysis may require large number of words.\n",
    "Create a document-frequecy (df) matrix with 5000 rows and 50 columns where each column is a particular word (feature) and each row is a tweet (observation). The values of the matrix is how often the word appears. Apply the techniques we learned to reduce the weight of most common words (if necessary). Since this is a sparse matrix, you can use the sparse martix libraries to make things a bit more efficient (we can also use a regular numpy arrays to store these things since the dimensions are not too large). Lecture 6.1 captures some sparse matrix routines you can use.\n",
    "Print the first 10 rows of the df to show the matrix you created\n",
    "\n",
    "Start with the `tidy_format` dataframe"
   ]
  },
  {
   "cell_type": "code",
   "execution_count": null,
   "metadata": {},
   "outputs": [],
   "source": [
    "import nltk\n",
    "import nltk.corpus\n",
    "nltk.download('stopwords')\n",
    "nltk.download('wordnet')"
   ]
  },
  {
   "cell_type": "code",
   "execution_count": null,
   "metadata": {
    "id": "oiWydwJJapP_"
   },
   "outputs": [],
   "source": [
    "## code to plot the first 10 rows of the matrix\n",
    "#create a dataframe called tmp to store all words appear in the tweets\n",
    "tmp = tidy_format.drop('num',axis=1)\n",
    "\n",
    "#remove stopwords\n",
    "stopwords = nltk.corpus.stopwords.words(\"english\")\n",
    "stopwords.extend(['rt','t','co','https','realdonaldtrump','amp',\"u\",'hillary','trump2016','trump','clinton','http','ha','wa'])\n",
    "tmp = tmp[~tmp['word'].isin(stopwords)]\n",
    "\n",
    "#deal with plurals\n",
    "from nltk.stem.wordnet import WordNetLemmatizer\n",
    "Lem = WordNetLemmatizer()\n",
    "def lem(x):\n",
    "    return Lem.lemmatize(x)\n",
    "tmp['word'] = tmp.word.apply(lem)\n",
    "\n",
    "# Remove numbers\n",
    "tmp = tmp[~(tmp['word'].str.isnumeric())]\n",
    "\n",
    "#Remove words with only 1 or 2 length\n",
    "tmp = tmp[(tmp['word'].str.len() > 2)]\n",
    "\n",
    "#get top50 words\n",
    "tmp = tmp.reset_index()\n",
    "top50 = tmp['word'].value_counts(ascending=False).nlargest(50).to_frame()\n",
    "\n",
    "tmp2 = tmp[tmp['word'].isin(top50.reset_index()['index'])]\n",
    "\n",
    "idlist = tmp2['id'].unique()\n",
    "idlist.sort()\n",
    "idlist = idlist[:5000]\n",
    "\n",
    "#create the tf-matrix\n",
    "matrix = np.zeros((5000,50))\n",
    "words = top50.index\n",
    "top50 = top50.reset_index()\n",
    "for a in range(5000):\n",
    "    for b in range(50):\n",
    "        if (top50['index'][b]) in df_trump['no_punc'].loc[idlist[a]]:\n",
    "            matrix[a][b] += 1\n",
    "\n",
    "print(matrix[:10])\n",
    "top50\n"
   ]
  },
  {
   "attachments": {},
   "cell_type": "markdown",
   "metadata": {
    "id": "ArZki_hcapP_"
   },
   "source": [
    "### Task 5.2 Find the PCA's\n",
    "Write the code to find the first 50 PCA's for the document-frequency matrix. Pass the document-term-matrix to scikit-learn’s (https://scikit-learn.org/stable/modules/decomposition.html#decompositions) PCA method to obtain the components and loading factors."
   ]
  },
  {
   "cell_type": "code",
   "execution_count": null,
   "metadata": {
    "id": "CRABWO6xapP_"
   },
   "outputs": [],
   "source": [
    "### BEGIN ANSWER\n",
    "from sklearn.decomposition import PCA\n",
    "\n",
    "pca = PCA()\n",
    "pca.fit(matrix)\n",
    "\n",
    "print(pca.components_)\n",
    "# len(pca.components_)\n",
    "print(pca.explained_variance_)\n",
    "### END ANSWER"
   ]
  },
  {
   "attachments": {},
   "cell_type": "markdown",
   "metadata": {
    "id": "UCjL4BbYapQA"
   },
   "source": [
    "### Task 5.3 Examine the PCA\n",
    "We can examine the PCA results to look at the heatmap. Make a grid plot which shows the various principal component along the x-axis and the individual words along the y-axes. Each grid box should be color-coded based on the sign of the loading factor and how large the square of that value is. Looking at it vertically, you can see which words constitute your principal components. Looking at it horizontally, you can see how individual terms are shared between components. \n",
    "\n",
    "![title](images/pca.png)\n",
    "\n"
   ]
  },
  {
   "cell_type": "code",
   "execution_count": null,
   "metadata": {
    "id": "FeF4AKiPapQA"
   },
   "outputs": [],
   "source": [
    "### BEGIN ANSWER\n",
    "pca_map= pd.DataFrame(pca.components_, columns=words)\n",
    "pca_map_flipped = pca_map.transpose()\n",
    "plt.figure(figsize=(20,15))\n",
    "sns.heatmap(pca_map_flipped, cmap=\"BrBG\", vmin= -0.8, vmax=0.8, xticklabels=[\"PC\" + str(x) for x in range(1,51)], yticklabels=True)\n",
    "### END ANSWER"
   ]
  },
  {
   "attachments": {},
   "cell_type": "markdown",
   "metadata": {
    "id": "BASs-3ERapQA"
   },
   "source": [
    "### Task 5.4 PCA Compare\n",
    "We can determine how many words and how many components are needed to do a good visualization. Plot PC1 and PC2 in a 2D plot. The results should be similar to following scatter plot \n",
    "\n",
    "![title](images/PC1_PC2.png)\n",
    "\n",
    "This is a scatter plot of the values of the components, but with arrows indicating some of the prominent terms as indicated by their loading factors. The values of the loading factors are used to determine the length and direction of these arrows and as such they serve as a way of expressing direction. That is, tweets which use these terms will be moved along the length of those arrows. Shown are the most important parameters."
   ]
  },
  {
   "cell_type": "code",
   "execution_count": null,
   "metadata": {
    "id": "Kw7mi75wapQA"
   },
   "outputs": [],
   "source": [
    "### BEGIN ANSWER\n",
    "pca1 = pca.components_[:,0]\n",
    "pca2 = pca.components_[:,1]\n",
    "joint = sns.jointplot(pca1, pca2)\n",
    "joint.set_axis_labels('x', 'y', fontsize=16)\n",
    "joint.ax_joint.set_xlabel('PC1');\n",
    "joint.ax_joint.set_ylabel('PC2');\n",
    "### END ANSWER"
   ]
  },
  {
   "attachments": {},
   "cell_type": "markdown",
   "metadata": {
    "id": "n2-oIKbeapQA"
   },
   "source": [
    "## PART 6 - Twitter Engagement\n",
    "\n",
    "In this problem, we'll explore which words led to a greater average number of retweets. For example, at the time of this writing, Donald Trump has two tweets that contain the word 'oakland' (tweets 932570628451954688 and 1016609920031117312) with 36757 and 10286 retweets respectively, for an average of 23,521.5.\n",
    "\n",
    "\n",
    "Your `top_20` table should have this format:\n",
    "\n",
    "<table border=\"1\" class=\"dataframe\">\n",
    "  <thead>\n",
    "    <tr style=\"text-align: right;\">\n",
    "      <th></th>\n",
    "      <th>retweet_count</th>\n",
    "    </tr>\n",
    "    <tr>\n",
    "      <th>word</th>\n",
    "      <th></th>\n",
    "    </tr>\n",
    "  </thead>\n",
    "  <tbody>\n",
    "    <tr>\n",
    "      <th>jong</th>\n",
    "      <td>40675.666667</td>\n",
    "    </tr>\n",
    "    <tr>\n",
    "      <th>try</th>\n",
    "      <td>33937.800000</td>\n",
    "    </tr>\n",
    "    <tr>\n",
    "      <th>kim</th>\n",
    "      <td>32849.595745</td>\n",
    "    </tr>\n",
    "    <tr>\n",
    "      <th>un</th>\n",
    "      <td>32741.731707</td>\n",
    "    </tr>\n",
    "    <tr>\n",
    "      <th>maybe</th>\n",
    "      <td>30473.192308</td>\n",
    "    </tr>\n",
    "  </tbody>\n",
    "</table>"
   ]
  },
  {
   "attachments": {},
   "cell_type": "markdown",
   "metadata": {
    "id": "3MzFQJDUapQA"
   },
   "source": [
    "### Task 6.1\n",
    "Find the top 20 most retweeted words. Include only words that appear in at least 25 tweets. As usual, try to do this without any for loops. You can string together ~5-7 pandas commands and get everything done on one line."
   ]
  },
  {
   "cell_type": "code",
   "execution_count": null,
   "metadata": {
    "id": "LIiOKJjuapQA"
   },
   "outputs": [],
   "source": [
    "#top_20 = ...\n",
    "### BEGIN ANSWER\n",
    "top_20 = tidy_format.groupby('word')\n",
    "top_20 = top_20.filter(lambda x: len(x) > 25)\n",
    "top_20 = top_20.merge(df_trump, how='inner', left_index=True, right_index=True)\n",
    "top_20 = top_20.groupby('word').agg({'retweet_count': 'mean'})\n",
    "top_20 = top_20.sort_values(by='retweet_count', ascending=False)\n",
    "top_20 = top_20[:20]\n",
    "top_20\n",
    "### END ANSWER"
   ]
  },
  {
   "attachments": {},
   "cell_type": "markdown",
   "metadata": {
    "id": "5lSh8NdyapQA"
   },
   "source": [
    "### Task 6.2\n",
    "Plot a bar chart of your results:"
   ]
  },
  {
   "cell_type": "code",
   "execution_count": null,
   "metadata": {
    "id": "CPahzHsVapQA"
   },
   "outputs": [],
   "source": [
    "### BEGIN ANSWER\n",
    "bar_plot = top_20['retweet_count'].sort_values(ascending=True)\n",
    "bar_plot.plot.barh(figsize=(10, 8));\n",
    "\n",
    "### END ANSWER"
   ]
  },
  {
   "attachments": {},
   "cell_type": "markdown",
   "metadata": {
    "id": "3CzsT89dapQA"
   },
   "source": [
    "## PART 7 - Kim Jong Un and Musk Tweet Analysis (Optional for Individual)\n",
    "What else can we do? Let us ask some open ended questions."
   ]
  },
  {
   "attachments": {},
   "cell_type": "markdown",
   "metadata": {
    "id": "00lj_c39apQA"
   },
   "source": [
    "### Task 7.1\n",
    "\"kim\", \"jong\" and \"un\" are apparently really popular in Trump's tweets! It seems like we can conclude that his tweets involving jong are more popular than his other tweets. Or can we?\n",
    "\n",
    "Consider each of the statements about possible confounding factors below. State whether each statement is true or false and explain. If the statement is true, state whether the confounding factor could have made kim jong un related tweets higher in the list than they should be.\n",
    "\n",
    "1. We didn't restrict our word list to nouns, so we have unhelpful words like \"let\" and \"any\" in our result.\n",
    "      - That might be why 'un' is the most popular.\n",
    "1. We didn't remove hashtags in our text, so we have duplicate words (eg. #great and great).\n",
    "      - Some may only have '#great' not 'great' which make the average lower\n",
    "1. We didn't account for the fact that Trump's follower count has increased over time.\n",
    "      - This can affect a lot. As Trump's follower count has increased, the more popular every word be"
   ]
  },
  {
   "cell_type": "code",
   "execution_count": null,
   "metadata": {
    "id": "dShu7ypuapQB"
   },
   "outputs": [],
   "source": [
    "#plt.figure(figsize=(20,20))\n",
    "\n",
    "### BEGIN ANSWER\n",
    "   \n",
    "# your solution here\n",
    "\n",
    "### END ANSWER"
   ]
  },
  {
   "attachments": {},
   "cell_type": "markdown",
   "metadata": {
    "id": "gjF3QW2tapQB"
   },
   "source": [
    "Created by Andy Guna @2019-2022 Credits: Josh Hug, and Berkeley Data Science Group, Steve Skiena, David Rodreguez"
   ]
  },
  {
   "attachments": {},
   "cell_type": "markdown",
   "metadata": {},
   "source": [
    "@ Copyrighted Material. DO NOT post online."
   ]
  }
 ],
 "metadata": {
  "colab": {
   "name": "MidSemester Project - F21.ipynb",
   "provenance": []
  },
  "kernelspec": {
   "display_name": "Python 3",
   "language": "python",
   "name": "python3"
  },
  "language_info": {
   "codemirror_mode": {
    "name": "ipython",
    "version": 3
   },
   "file_extension": ".py",
   "mimetype": "text/x-python",
   "name": "python",
   "nbconvert_exporter": "python",
   "pygments_lexer": "ipython3",
   "version": "3.9.12"
  }
 },
 "nbformat": 4,
 "nbformat_minor": 4
}
