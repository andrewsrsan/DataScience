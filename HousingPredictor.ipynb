{
 "cells": [
  {
   "attachments": {},
   "cell_type": "markdown",
   "metadata": {},
   "source": [
    "Before you turn this problem in, make sure everything runs as expected. First, **restart the kernel** (in the menubar, select Kernel$\\rightarrow$Restart) and then **run all cells** (in the menubar, select Cell$\\rightarrow$Run All).\n",
    "\n",
    "Make sure you fill in any place that says `YOUR CODE HERE` or \"YOUR ANSWER HERE\", as well as your name and collaborators below:"
   ]
  },
  {
   "cell_type": "code",
   "execution_count": 1,
   "metadata": {},
   "outputs": [],
   "source": [
    "NAME = \"Andrew San\"\n",
    "COLLABORATORS = \"\""
   ]
  },
  {
   "attachments": {},
   "cell_type": "markdown",
   "metadata": {},
   "source": [
    "---"
   ]
  },
  {
   "attachments": {},
   "cell_type": "markdown",
   "metadata": {},
   "source": [
    "# Lab 5: Multivariate Linear Regression\n",
    "\n",
    "In this lab we will work through the process of:\n",
    "1. implementing a linear regression model\n",
    "2. defining, implementing and testing multiple loss functions \n",
    "3. minimizing loss functions using gradient descent\n",
    "4. comparing with python library functions\n",
    "5. Using the model to predict on test data \n"
   ]
  },
  {
   "attachments": {},
   "cell_type": "markdown",
   "metadata": {},
   "source": [
    "## Initialize"
   ]
  },
  {
   "cell_type": "code",
   "execution_count": 2,
   "metadata": {},
   "outputs": [],
   "source": [
    "import pandas as pd\n",
    "import numpy as np\n",
    "import seaborn as sns\n",
    "import matplotlib.pyplot as plt\n",
    "np.random.seed(42)\n",
    "plt.style.use('fivethirtyeight')\n",
    "sns.set()\n",
    "sns.set_context(\"talk\")\n",
    "%matplotlib inline"
   ]
  },
  {
   "attachments": {},
   "cell_type": "markdown",
   "metadata": {},
   "source": [
    "# Univariate Linear Regression\n",
    "In the first task of the lab, we will model linear regression based on a data set that contains housing data (data/USA_Housing.csv). \n",
    "\n",
    "# Task 1 - Initialization\n",
    "Read the file into a dataframe and keep only the features you need. We will be doing univariate and multivariate regression on housing data.The goal is to find a model that will allow us to predict hosuing prices given certain values."
   ]
  },
  {
   "attachments": {},
   "cell_type": "markdown",
   "metadata": {},
   "source": [
    "### Activity 1.1  Read Data"
   ]
  },
  {
   "cell_type": "code",
   "execution_count": 3,
   "metadata": {},
   "outputs": [
    {
     "data": {
      "text/html": [
       "<div>\n",
       "<style scoped>\n",
       "    .dataframe tbody tr th:only-of-type {\n",
       "        vertical-align: middle;\n",
       "    }\n",
       "\n",
       "    .dataframe tbody tr th {\n",
       "        vertical-align: top;\n",
       "    }\n",
       "\n",
       "    .dataframe thead th {\n",
       "        text-align: right;\n",
       "    }\n",
       "</style>\n",
       "<table border=\"1\" class=\"dataframe\">\n",
       "  <thead>\n",
       "    <tr style=\"text-align: right;\">\n",
       "      <th></th>\n",
       "      <th>Avg. Area House Age</th>\n",
       "      <th>Avg. Area Number of Rooms</th>\n",
       "      <th>Price</th>\n",
       "    </tr>\n",
       "  </thead>\n",
       "  <tbody>\n",
       "    <tr>\n",
       "      <th>1</th>\n",
       "      <td>5.682861322</td>\n",
       "      <td>7.009188143</td>\n",
       "      <td>1059033.558</td>\n",
       "    </tr>\n",
       "    <tr>\n",
       "      <th>2</th>\n",
       "      <td>6.002899808</td>\n",
       "      <td>6.730821019</td>\n",
       "      <td>1505890.915</td>\n",
       "    </tr>\n",
       "    <tr>\n",
       "      <th>3</th>\n",
       "      <td>5.86588984</td>\n",
       "      <td>8.51272743</td>\n",
       "      <td>1058987.988</td>\n",
       "    </tr>\n",
       "    <tr>\n",
       "      <th>4</th>\n",
       "      <td>7.188236095</td>\n",
       "      <td>5.586728665</td>\n",
       "      <td>1260616.807</td>\n",
       "    </tr>\n",
       "    <tr>\n",
       "      <th>5</th>\n",
       "      <td>5.040554523</td>\n",
       "      <td>7.839387785</td>\n",
       "      <td>630943.4893</td>\n",
       "    </tr>\n",
       "    <tr>\n",
       "      <th>...</th>\n",
       "      <td>...</td>\n",
       "      <td>...</td>\n",
       "      <td>...</td>\n",
       "    </tr>\n",
       "    <tr>\n",
       "      <th>4996</th>\n",
       "      <td>7.830362444</td>\n",
       "      <td>6.137356228</td>\n",
       "      <td>1060193.786</td>\n",
       "    </tr>\n",
       "    <tr>\n",
       "      <th>4997</th>\n",
       "      <td>6.999134987</td>\n",
       "      <td>6.576762661</td>\n",
       "      <td>1482617.729</td>\n",
       "    </tr>\n",
       "    <tr>\n",
       "      <th>4998</th>\n",
       "      <td>7.250590615</td>\n",
       "      <td>4.80508098</td>\n",
       "      <td>1030729.583</td>\n",
       "    </tr>\n",
       "    <tr>\n",
       "      <th>4999</th>\n",
       "      <td>5.534388416</td>\n",
       "      <td>7.130143864</td>\n",
       "      <td>1198656.872</td>\n",
       "    </tr>\n",
       "    <tr>\n",
       "      <th>5000</th>\n",
       "      <td>5.992305307</td>\n",
       "      <td>6.792336104</td>\n",
       "      <td>1298950.48</td>\n",
       "    </tr>\n",
       "  </tbody>\n",
       "</table>\n",
       "<p>5000 rows × 3 columns</p>\n",
       "</div>"
      ],
      "text/plain": [
       "0    Avg. Area House Age Avg. Area Number of Rooms        Price\n",
       "1            5.682861322               7.009188143  1059033.558\n",
       "2            6.002899808               6.730821019  1505890.915\n",
       "3             5.86588984                8.51272743  1058987.988\n",
       "4            7.188236095               5.586728665  1260616.807\n",
       "5            5.040554523               7.839387785  630943.4893\n",
       "...                  ...                       ...          ...\n",
       "4996         7.830362444               6.137356228  1060193.786\n",
       "4997         6.999134987               6.576762661  1482617.729\n",
       "4998         7.250590615                4.80508098  1030729.583\n",
       "4999         5.534388416               7.130143864  1198656.872\n",
       "5000         5.992305307               6.792336104   1298950.48\n",
       "\n",
       "[5000 rows x 3 columns]"
      ]
     },
     "execution_count": 3,
     "metadata": {},
     "output_type": "execute_result"
    }
   ],
   "source": [
    "import pandas as pd\n",
    "df=pd.read_csv('data/USA_Housing.csv', sep=',',header=None)\n",
    "df , df.columns = df[1:] , df.iloc[0]\n",
    "df.columns\n",
    "# list(df.columns)\n",
    "df_adjusted = df[['Avg. Area House Age','Avg. Area Number of Rooms','Price']]  \n",
    "df_adjusted\n",
    "# keep only the columns \"Avg. Area House Age\" and \"Avg. Area Number of Rooms\" and Price"
   ]
  },
  {
   "cell_type": "code",
   "execution_count": 4,
   "metadata": {},
   "outputs": [
    {
     "data": {
      "text/html": [
       "<div>\n",
       "<style scoped>\n",
       "    .dataframe tbody tr th:only-of-type {\n",
       "        vertical-align: middle;\n",
       "    }\n",
       "\n",
       "    .dataframe tbody tr th {\n",
       "        vertical-align: top;\n",
       "    }\n",
       "\n",
       "    .dataframe thead th {\n",
       "        text-align: right;\n",
       "    }\n",
       "</style>\n",
       "<table border=\"1\" class=\"dataframe\">\n",
       "  <thead>\n",
       "    <tr style=\"text-align: right;\">\n",
       "      <th></th>\n",
       "      <th>Avg. Area House Age</th>\n",
       "      <th>Avg. Area Number of Rooms</th>\n",
       "      <th>Price</th>\n",
       "    </tr>\n",
       "  </thead>\n",
       "  <tbody>\n",
       "    <tr>\n",
       "      <th>3432</th>\n",
       "      <td>5.828142871</td>\n",
       "      <td>4.85142302</td>\n",
       "      <td>612938.7145</td>\n",
       "    </tr>\n",
       "    <tr>\n",
       "      <th>2043</th>\n",
       "      <td>6.918945345</td>\n",
       "      <td>6.245655683</td>\n",
       "      <td>1347083.07</td>\n",
       "    </tr>\n",
       "    <tr>\n",
       "      <th>80</th>\n",
       "      <td>6.954422126</td>\n",
       "      <td>8.516160048</td>\n",
       "      <td>1492011.496</td>\n",
       "    </tr>\n",
       "    <tr>\n",
       "      <th>4664</th>\n",
       "      <td>5.195406378</td>\n",
       "      <td>8.368912846</td>\n",
       "      <td>1223915.253</td>\n",
       "    </tr>\n",
       "    <tr>\n",
       "      <th>3641</th>\n",
       "      <td>7.271422215</td>\n",
       "      <td>5.685407675</td>\n",
       "      <td>1368692.297</td>\n",
       "    </tr>\n",
       "    <tr>\n",
       "      <th>...</th>\n",
       "      <td>...</td>\n",
       "      <td>...</td>\n",
       "      <td>...</td>\n",
       "    </tr>\n",
       "    <tr>\n",
       "      <th>4927</th>\n",
       "      <td>5.367789514</td>\n",
       "      <td>7.287303779</td>\n",
       "      <td>980049.3901</td>\n",
       "    </tr>\n",
       "    <tr>\n",
       "      <th>3700</th>\n",
       "      <td>5.128212246</td>\n",
       "      <td>7.247375951</td>\n",
       "      <td>1578141.053</td>\n",
       "    </tr>\n",
       "    <tr>\n",
       "      <th>3302</th>\n",
       "      <td>7.398134291</td>\n",
       "      <td>7.517188956</td>\n",
       "      <td>1890056.385</td>\n",
       "    </tr>\n",
       "    <tr>\n",
       "      <th>3325</th>\n",
       "      <td>6.901876796</td>\n",
       "      <td>7.58807521</td>\n",
       "      <td>1689690.754</td>\n",
       "    </tr>\n",
       "    <tr>\n",
       "      <th>2766</th>\n",
       "      <td>7.358643507</td>\n",
       "      <td>6.219018194</td>\n",
       "      <td>1730084.479</td>\n",
       "    </tr>\n",
       "  </tbody>\n",
       "</table>\n",
       "<p>500 rows × 3 columns</p>\n",
       "</div>"
      ],
      "text/plain": [
       "0    Avg. Area House Age Avg. Area Number of Rooms        Price\n",
       "3432         5.828142871                4.85142302  612938.7145\n",
       "2043         6.918945345               6.245655683   1347083.07\n",
       "80           6.954422126               8.516160048  1492011.496\n",
       "4664         5.195406378               8.368912846  1223915.253\n",
       "3641         7.271422215               5.685407675  1368692.297\n",
       "...                  ...                       ...          ...\n",
       "4927         5.367789514               7.287303779  980049.3901\n",
       "3700         5.128212246               7.247375951  1578141.053\n",
       "3302         7.398134291               7.517188956  1890056.385\n",
       "3325         6.901876796                7.58807521  1689690.754\n",
       "2766         7.358643507               6.219018194  1730084.479\n",
       "\n",
       "[500 rows x 3 columns]"
      ]
     },
     "execution_count": 4,
     "metadata": {},
     "output_type": "execute_result"
    }
   ],
   "source": [
    "## Split the data, df_adjusted into training (90%) and testing (10%) using sklearn\n",
    "from sklearn.model_selection import train_test_split\n",
    "df_training, df_testing = train_test_split(df_adjusted, test_size=.1, train_size = .9, random_state = 50)\n",
    "df_training\n",
    "df_testing\n",
    "# df_training = \n",
    "# df_testing =                              \n",
    "# we will be using test data later in this assignment"
   ]
  },
  {
   "attachments": {},
   "cell_type": "markdown",
   "metadata": {},
   "source": [
    "### Activity 1.2 Normalize Data\n",
    "In this task, you need to normalize df_training data using MinMaxScaler from sklearn.preprocessing. Normalize all df_training data columns to be between 0 and 1. X_scaled_values are the normalized x values of housing data and Y_scaled_values are the scaled values of prices."
   ]
  },
  {
   "cell_type": "code",
   "execution_count": 5,
   "metadata": {},
   "outputs": [],
   "source": [
    "from sklearn.preprocessing import MinMaxScaler\n",
    "scaler = MinMaxScaler()\n",
    "### BEGIN ANSWER\n",
    "X_scaled_values = scaler.fit_transform(df_training[['Avg. Area House Age','Avg. Area Number of Rooms']])\n",
    "# Y_scaled_values = scaler.fit_transform(df_adjusted[['Avg. Area Number of Rooms']])\n",
    "Y_scaled_values = scaler.fit_transform(df_training[['Price']])\n",
    "X_scaled_values[0].size\n",
    "### END ANSWER\n",
    "x = X_scaled_values.transpose()\n",
    "y = Y_scaled_values.transpose()[0,:]"
   ]
  },
  {
   "attachments": {},
   "cell_type": "markdown",
   "metadata": {},
   "source": [
    "### Activity 1.3 Plot the feature data to see if a linear regression line is a good fit\n",
    "It is helpful to understand if the data lends to a linear regression model. In this activity, we will plot the points to see if a line fit to data is reasonable. Plot housing prices vs \"Avg. Area House Age\" and \"Avg. Area Number of Rooms\""
   ]
  },
  {
   "cell_type": "code",
   "execution_count": 6,
   "metadata": {},
   "outputs": [
    {
     "data": {
      "image/png": "[encoded data removed]",
      "text/plain": [
       "<Figure size 432x288 with 1 Axes>"
      ]
     },
     "metadata": {
      "needs_background": "light"
     },
     "output_type": "display_data"
    }
   ],
   "source": [
    "import numpy as np\n",
    "import matplotlib.pyplot as plt\n",
    "# plot x = \"Avg. Area House Age\" and y = price\n",
    "### BEGIN ANSWER\n",
    "plot1 = plt.scatter(x[0],y)\n",
    "### END ANSWER"
   ]
  },
  {
   "cell_type": "code",
   "execution_count": 7,
   "metadata": {},
   "outputs": [
    {
     "name": "stdout",
     "output_type": "stream",
     "text": [
      "[[0.5026345  0.28560736 0.3648142  ... 0.79899389 0.39457287 0.26608873]\n",
      " [0.3073306  0.33596457 0.46473142 ... 0.32095968 0.35491706 0.35728827]]\n"
     ]
    },
    {
     "data": {
      "image/png": "[encoded data removed]",
      "text/plain": [
       "<Figure size 432x288 with 1 Axes>"
      ]
     },
     "metadata": {
      "needs_background": "light"
     },
     "output_type": "display_data"
    }
   ],
   "source": [
    "import numpy as np\n",
    "import matplotlib.pyplot as plt\n",
    "# plot x = \"Avg. Area Number of Rooms\" and y = price\n",
    "### BEGIN ANSWER\n",
    "print(x)\n",
    "plot1 = plt.scatter(x[1],y)\n",
    "\n",
    "\n",
    "\n",
    "### END ANSWER"
   ]
  },
  {
   "attachments": {},
   "cell_type": "markdown",
   "metadata": {},
   "source": [
    "## Question 1.4\n",
    "##### BEGIN ANSWER\n",
    "question: Based on what you see in the plot, do you think it is fine to use linear regression to predict housing prices? Why?\n",
    "\n",
    "I would use a linear regression as there does seem to be a distinct linea correlation between price and the number of rooms / area.\n",
    "\n",
    "##### END ANSWER"
   ]
  },
  {
   "attachments": {},
   "cell_type": "markdown",
   "metadata": {},
   "source": [
    "# Task 2 Manual Exploration of Linear Regression Line\n",
    "In this task we will manually explore the linear regression line for the model x = \"Avg. Area House Age\" and y = price. This will give us a good intution about the process.\n",
    "The goal now is to fit a line \n",
    "$$\n",
    "h(\\theta) = \\theta_0 + \\theta_1*x \n",
    "$$\n",
    "to all data points (x,y), such that the L2 error \n",
    "$$\n",
    " E(\\theta) = \\sum(h(\\theta)-y)^2 $$ is minimized. In this task we will manually change the values of theta0 and theta1 such that we obtain the smallest possible error. \n"
   ]
  },
  {
   "cell_type": "code",
   "execution_count": 8,
   "metadata": {},
   "outputs": [],
   "source": [
    "# define the function h(theta)\n",
    "def h(theta0, theta1, x):\n",
    "    return theta0 + theta1 * x\n",
    "\n",
    "# print(x[:,0])"
   ]
  },
  {
   "attachments": {},
   "cell_type": "markdown",
   "metadata": {},
   "source": [
    "### Activity 2.1 - Define the square loss (L2) function\n",
    "Define the function, sqerror that computes the error based on the arguments provided. The function h(theta) is as defined above. Assume that x and y are the observed vectors. We use the average square loss or L2 loss in this case. "
   ]
  },
  {
   "cell_type": "code",
   "execution_count": 9,
   "metadata": {},
   "outputs": [
    {
     "name": "stdout",
     "output_type": "stream",
     "text": [
      "0.018851448326533248\n",
      "0.021823815395622573\n"
     ]
    }
   ],
   "source": [
    "import numpy as np\n",
    "\n",
    "## BEGIN ASNWER\n",
    "def sqerror(x, y, theta0, theta1):\n",
    "    # \"\"\"\n",
    "    # Input: parameters theta0 and theta1 of the model\n",
    "    # Input: x, y vectors\n",
    "    # Returns: L2 square error\n",
    "    # Assumptions: none\n",
    "    # \"\"\"\n",
    "    ans = ((h(theta0,theta1,x)-y)**2).mean()\n",
    "    return ans\n",
    "    \n",
    "    \n",
    "## END ANSWER\n",
    "\n",
    "## testing\n",
    "print(sqerror(x[0], y, 0.29,0.52))\n",
    "print(sqerror(x[1], y, 0.29,0.52))\n",
    "# 0.018851448326533217\n",
    "# 0.02182381539562264"
   ]
  },
  {
   "attachments": {},
   "cell_type": "markdown",
   "metadata": {},
   "source": [
    "### Activity 2.2 - Define the L1 Absolute error function\n",
    "Define the function, abserror that computes the avarega absolute error based on the arguments provided. The function h(theta) is as defined above. Assume that x and y are the observed vectors. We use the average abssolute error in this case."
   ]
  },
  {
   "cell_type": "code",
   "execution_count": 10,
   "metadata": {},
   "outputs": [
    {
     "name": "stdout",
     "output_type": "stream",
     "text": [
      "0.10961636709557822\n",
      "0.11777276790770351\n"
     ]
    }
   ],
   "source": [
    "import numpy as np\n",
    "import math\n",
    "\n",
    "## BEGIN ANSWER\n",
    "def abserror(x, y, theta0, theta1):\n",
    "    \"\"\"\n",
    "    Input: parameters theta0 and theta1 of the model \n",
    "    Input: x, y vectors\n",
    "    Returns: L1 error\n",
    "    Assumptions: none\n",
    "    \"\"\"\n",
    "    ans = (abs((h(theta0,theta1,x)-y))).mean()\n",
    "    return ans\n",
    "    \n",
    "## END ANSWER\n",
    "\n",
    "## testing\n",
    "print(abserror(x[0], y, 0.29,0.52))\n",
    "print(abserror(x[1], y, 0.29,0.52))"
   ]
  },
  {
   "attachments": {
    "image.png": {
     "image/png": "[encoded data removed]"
    }
   },
   "cell_type": "markdown",
   "metadata": {},
   "source": [
    "### Activity 2.3 - Define the Pseudo Huber loss function\n",
    "Define the function, huberror that computes the pseudo huber error based on the two arguments provided. The function h(theta) is as defined above. Assume that x and y are the observed vectors. The equation for this function is given by \n",
    "![image.png](attachment:image.png)\n",
    "The following function finds the average huber error. In this equation, a  = |h(theta) - y| (see notes for details)"
   ]
  },
  {
   "cell_type": "code",
   "execution_count": 11,
   "metadata": {},
   "outputs": [
    {
     "name": "stdout",
     "output_type": "stream",
     "text": [
      "0.005791489779469562\n",
      "0.006458677517895609\n"
     ]
    }
   ],
   "source": [
    "import numpy as np\n",
    "import math\n",
    "\n",
    "## BEGIN ANSWER\n",
    "def huberror(x, y, theta0, theta1, delta):\n",
    "    \"\"\"\n",
    "    Input: parameters theta0, theta1 and delta of the model \n",
    "    Input: x, y vectors\n",
    "    Returns: psuedo huber error\n",
    "    Assumptions: none\n",
    "    \"\"\"\n",
    "    return ((delta**2) * (np.sqrt(1+((abs(h(theta0, theta1, x) - y)/delta) **2))-1)).mean()\n",
    "\n",
    "## END ANSWER\n",
    "\n",
    "## testing\n",
    "print(huberror(x[0], y, 0.29,0.52,0.1))\n",
    "print(huberror(x[1], y, 0.29,0.52,0.1))\n",
    "# type(x[0])\n"
   ]
  },
  {
   "attachments": {},
   "cell_type": "markdown",
   "metadata": {},
   "source": [
    "### Activity 2.4 Interactive Exploration.\n",
    "Let us initialize the interat widget to create sliders that allows us to change the values of theta0 and theta1 and see how things change. Complete the function f below. The function is expected to get two values theta0 and theta1 and plot both the observed points (x,y) and the regression line on the same plot. It also needs to compute the error and display and error."
   ]
  },
  {
   "cell_type": "code",
   "execution_count": 12,
   "metadata": {},
   "outputs": [
    {
     "name": "stdout",
     "output_type": "stream",
     "text": [
      "Enabling notebook extension jupyter-js-widgets/extension...\n",
      "      - Validating: \u001b[32mOK\u001b[0m\n"
     ]
    }
   ],
   "source": [
    "from ipywidgets import interact\n",
    "!jupyter nbextension enable --py widgetsnbextension"
   ]
  },
  {
   "cell_type": "code",
   "execution_count": 13,
   "metadata": {},
   "outputs": [
    {
     "data": {
      "application/vnd.jupyter.widget-view+json": {
       "model_id": "a43d4c80af584f27906f6e9b63ab3886",
       "version_major": 2,
       "version_minor": 0
      },
      "text/plain": [
       "interactive(children=(FloatSlider(value=0.0, description='theta0', max=1.0), FloatSlider(value=0.0, descriptio…"
      ]
     },
     "metadata": {},
     "output_type": "display_data"
    }
   ],
   "source": [
    "# interactive panel\n",
    "import pylab\n",
    "import numpy\n",
    "\n",
    "def f(theta0, theta1):\n",
    "    \"\"\"\n",
    "    Plot the line and points in an interactive panel\n",
    "    \"\"\"\n",
    "    # plot the line for theta0 and theta1\n",
    "    y1 = h(theta0, theta1, x[0]) \n",
    "    # compose plot\n",
    "    pylab.plot(x[0],y1) \n",
    "    \n",
    "    # compute the L2 error for theta0 and theta1 for 5 decimal places\n",
    "    sqerr = round(sqerror(x[0], y, theta0, theta1),6)\n",
    "    # compute the absolute or L1 error for theta0 and theta1\n",
    "    abserr = round(abserror(x[0], y, theta0, theta1),4)\n",
    "    # compute the phub error for theta0 and theta1\n",
    "    huberr = round(huberror(x[0], y, theta0, theta1, 0.01),4)\n",
    "    pylab.title('L1=' + str(abserr) + '  L2=' + str(sqerr) + '  hub=' + str(huberr))\n",
    "    \n",
    "    # plot the points\n",
    "    x1 = x[0]   \n",
    "    y1 = Y_scaled_values\n",
    "    pylab.scatter(x1, y1, alpha=0.5)\n",
    "    pylab.show() # show the plot  \n",
    "\n",
    "interact(f, theta1=(0,1,0.1), theta0=(0,1,0.1));\n"
   ]
  },
  {
   "attachments": {},
   "cell_type": "markdown",
   "metadata": {},
   "source": [
    "### Activity 2.5 Record the best values for each error function\n",
    "Write the \"best\" values you found for theta0 (y-intercept) and theta1 (slope) and the error. \n",
    "This error is the minimum you have observed based on the manual exploration using the widget \n",
    "above."
   ]
  },
  {
   "cell_type": "code",
   "execution_count": 14,
   "metadata": {},
   "outputs": [],
   "source": [
    "# BEST VALUES FOR AVE SQUARE ERROR\n",
    "theta0 = .2\n",
    "theta1 =.6\n",
    "error = .1043\n",
    "# BEST VALUES FOR AVE ABS ERROR\n",
    "theta0 = .2\n",
    "theta1 = .6\n",
    "error = .017061\n",
    "# BEST VALUES FOR AVE HUBER ERROR\n",
    "theta0 = .2\n",
    "theta1 = .6\n",
    "error = .001"
   ]
  },
  {
   "attachments": {},
   "cell_type": "markdown",
   "metadata": {},
   "source": [
    "# Task 3 - Gradient Descent - Univariate\n",
    "In this task we use the Gradient descent methods to find a \"better\" values for theta0 and theta1 that minimizes the error. Gradient descent is an iterative algorithm. It computes values of theta0 and theta1 in the direction of reaching the minimum point in the error function. The iterative formulas using L2 loss function for theta0 and theta1 are given by:\n",
    "$$\n",
    "\\theta_0 = \\theta_0 - \\alpha*(\\sum(\\theta_1*x^j + \\theta_0)-y^j)\n",
    "$$\n",
    "$$\n",
    "\\theta_1 = \\theta_1 - \\alpha*(\\sum(\\theta_1*x^j + \\theta_0 - y^j)*x^j\n",
    "$$\n",
    "\n",
    "The alpha is called the \"learning rate\". $(x^j, y^j)$ is the j-th observation. It is important to pick a good value for alpha so that convergence is not too slow (small alpha) or be at the risk of over shooting the minimum point (large alpha). You may have to experiemnt with few alphas to find something that works."
   ]
  },
  {
   "attachments": {},
   "cell_type": "markdown",
   "metadata": {},
   "source": [
    "### Activity 3.1 Compute Parameters using the Gradient Descent algorithm (L2 loss)\n",
    "\n",
    "Please print out the theta0 and theta1 values for each iteration in your function. You may get different output compare with the sample output depends on your initial theta0 and theta1 values. We will accept any answers which are close to the sample output."
   ]
  },
  {
   "cell_type": "code",
   "execution_count": 15,
   "metadata": {},
   "outputs": [
    {
     "name": "stdout",
     "output_type": "stream",
     "text": [
      "167 0.021831363777721213\n"
     ]
    }
   ],
   "source": [
    "# given the observed data (obsX,obsY), learning rate (alpha), and desired error threshold, \n",
    "# the function returns theta0 and theta1 when it reaches the error threshold.\n",
    "# The convergence is reached when the abs(newError - oldError) is less than the threshold.\n",
    "\n",
    "# BEGIN ANSWER  \n",
    "\n",
    "def gd2(obsX, obsY, alpha, threshold):\n",
    "    \"\"\"\n",
    "    Input : observed vectors X, Y, alpha and threshold\n",
    "    Return theta0, theta1 from Gradient Descent L2 loss algorithm\n",
    "    Return: Iterations and L2 Error\n",
    "    \"\"\"\n",
    "    theta0 = 0\n",
    "    theta1 = 0\n",
    "    interations = []\n",
    "    error = sqerror(obsX,obsY,theta0,theta1)\n",
    "    var_theta0 = theta0\n",
    "    var_theta1 = theta1\n",
    "    olderror = 0\n",
    "    newerror = 0\n",
    "    change = 1000000\n",
    "    while (change > threshold):\n",
    "        olderror = newerror\n",
    "        temp = \"theta0= \" + str(var_theta0) + \" theta1= \" + str(var_theta1) + \" error = \" + str(error)\n",
    "        # print('error: ' + str(newerror) + \" theta0: \" + str(var_theta0) + \" theta1: \" + str(var_theta1))\n",
    "        interations.append(temp)\n",
    "        var_theta0 = var_theta0 - alpha * ((var_theta1 * obsX + var_theta0) - obsY).mean()\n",
    "        var_theta1 = var_theta1 - alpha * (((var_theta1 * obsX + var_theta0) - obsY)*obsX).mean()\n",
    "        newerror = sqerror(obsX,obsY,var_theta0,var_theta1)\n",
    "        change = abs(newerror-olderror)\n",
    "        \n",
    "    return var_theta0,var_theta1,newerror,interations\n",
    "# END ANSWER\n",
    "\n",
    "[theta0,theta1,newError,iterations] = gd2(x[0],y,0.01,0.0001)\n",
    "print(len(iterations), newError)\n",
    "# print(iterations)\n",
    "# for i in range(0,len(iterations)):\n",
    "#     print(iterations[i])\n",
    "# error: 0.021534883928262367 theta0: 0.06475232015100979 theta1: 0.8647523201510101"
   ]
  },
  {
   "cell_type": "code",
   "execution_count": 16,
   "metadata": {},
   "outputs": [
    {
     "data": {
      "text/plain": [
       "(0.3487025522374391, 0.1792926940264689)"
      ]
     },
     "execution_count": 16,
     "metadata": {},
     "output_type": "execute_result"
    }
   ],
   "source": [
    "# observe theta0 and theta1\n",
    "theta0, theta1\n",
    "\n",
    "# the loss never reaches the values .0001"
   ]
  },
  {
   "attachments": {},
   "cell_type": "markdown",
   "metadata": {},
   "source": [
    "### Activity 3.2 Compute Gradient Descent (Huber)\n",
    "First Compute a formula for Pseudo huber gradient descent using derivative methods discussed in class and recitation. Similar to L2 descent, use the new formulas (obtained from pseudo huber derivatives) to compute values of theta1, theta1, error. The pseudo huber loss function is provided in Activity 2.3. Use that to differentiate the huber function wrt to theta0 and theta1. \n",
    "\n",
    "Please print out the theta0 and theta1 values for each iteration in your function. You may get different output compared with the sample output depending on your initial theta0 and theta1 values. We will accept any answers which are close to the sample output."
   ]
  },
  {
   "cell_type": "code",
   "execution_count": 17,
   "metadata": {},
   "outputs": [
    {
     "name": "stdout",
     "output_type": "stream",
     "text": [
      "2533 0.0018992180795052687\n"
     ]
    }
   ],
   "source": [
    "# given the observed data (obsX,obsY), learning rate (alpha), and desired error, \n",
    "# the function returns theta0, theta1, error and iterations\n",
    "# that reaches a minimum error threshold\n",
    "\n",
    "## BEGIN ANSWER\n",
    "\n",
    "def gdh(obsX, obsY, alpha, threshold, delta):\n",
    "    \"\"\"\n",
    "    Input : observed vectors X, Y, alpha and threshold\n",
    "    Return theta0, theta1 from Gradient Descent huber loss algorithm\n",
    "    Return: Iterations and huber Error\n",
    "    \"\"\"\n",
    "    theta0 = 0\n",
    "    theta1 = 0\n",
    "    interations = []\n",
    "    error = sqerror(obsX,obsY,theta0,theta1)\n",
    "    var_theta0 = theta0\n",
    "    var_theta1 = theta1\n",
    "    olderror = 0\n",
    "    newerror = 0\n",
    "    change = 1000000\n",
    "    while (change > threshold):\n",
    "        olderror = newerror\n",
    "        temp = \"theta0= \" + str(var_theta0) + \" theta1= \" + str(var_theta1) + \" error = \" + str(error)\n",
    "        # print('error: ' + str(newerror) + \" theta0: \" + str(var_theta0) + \" theta1: \" + str(var_theta1))\n",
    "        interations.append(temp)\n",
    "        var_theta0 = var_theta0 - alpha * ((theta0 - obsY + theta1 * obsX)/(np.sqrt((theta0 - obsY + theta1 * obsX)**2/delta**2) +1)).mean()\n",
    "        var_theta1 = var_theta1 - alpha * (obsX*(theta0 - obsY + theta1 * obsX)/(np.sqrt((theta0 - obsY + theta1 * obsX)**2/delta**2) +1)).mean()\n",
    "        newerror = huberror(obsX,obsY,var_theta0,var_theta1,delta)\n",
    "        change = abs(newerror-olderror)\n",
    "        \n",
    "    return var_theta0,var_theta1,newerror,interations\n",
    "    \n",
    "    \n",
    "    \n",
    "## END ANSWER\n",
    "\n",
    "# testing    \n",
    "[theta0,theta1,newError,iterations] = gdh(x,y,0.01,0.000001,0.01)\n",
    "print(len(iterations), newError)\n",
    "# for i in range(0,len(iterations)):\n",
    "#     print(iterations[i])\n",
    "# error: 0.0010493643127726525 theta0: 0.09757567528952661 theta1: 0.7975756752895258"
   ]
  },
  {
   "attachments": {},
   "cell_type": "markdown",
   "metadata": {},
   "source": [
    "### Activity 3.3 Compare with Library Estimators\n",
    "Now use the sklearn LinearRegression module to automate this process. What coefficients do you get? Are they close to what you received from gradient descent? Find the error from sklearn package. Is that error smaller or bigger than the squared error you received?"
   ]
  },
  {
   "cell_type": "code",
   "execution_count": 18,
   "metadata": {},
   "outputs": [
    {
     "name": "stdout",
     "output_type": "stream",
     "text": [
      "0.2743222808765401\n",
      "[0.45661798]\n"
     ]
    }
   ],
   "source": [
    "from sklearn.linear_model import LinearRegression\n",
    "lm = LinearRegression()\n",
    "# print(x[0])\n",
    "# print(y)\n",
    "result = lm.fit(x[0].reshape(-1,1),y)\n",
    "print(result.intercept_)\n",
    "print(result.coef_)"
   ]
  },
  {
   "cell_type": "code",
   "execution_count": 19,
   "metadata": {},
   "outputs": [
    {
     "data": {
      "text/plain": [
       "0.016611812091141386"
      ]
     },
     "execution_count": 19,
     "metadata": {},
     "output_type": "execute_result"
    }
   ],
   "source": [
    "theta0 = result.intercept_\n",
    "theta1 = result.coef_\n",
    "sqerror(x[0],y,theta0,theta1)"
   ]
  },
  {
   "attachments": {},
   "cell_type": "markdown",
   "metadata": {},
   "source": [
    "# Task 4 - Extending the Model to a Bivariate\n",
    "In this task we extend the model to predict housing price using two features \"$x_1 = $Avg. Area House Age\" and \"$x_2 = $Avg. Area Number of Rooms\". The regression model is then defined by  \n",
    "$$\n",
    "y = \\theta_2*x_2 + \\theta_1*x_1 + \\theta_0\n",
    "$$"
   ]
  },
  {
   "attachments": {},
   "cell_type": "markdown",
   "metadata": {},
   "source": [
    "## Activity 4.1\n",
    "We need to estimate the values of $\\theta_2, \\theta_1, \\theta_0$. \n",
    "The $\\theta_0$ formula is given below (using L2 norm). Using the same formating write the formulas for $\\theta_1$ and $\\theta_2$. The alpha is called the \"learning rate\". It is important to pick a good value for alpha so that convergence is not too slow (small alpha) or be at the risk of over shooting the minimum point (large alpha). You may have to experiemnt with few alphas to find something that works. \n",
    "Refer to class lectures for more help. \n",
    "\n",
    "$$\n",
    "\\theta_0 = \\theta_0 - \\alpha*(\\sum(\\theta_2*x_2^j + \\theta_1*x_1^j + \\theta_0)-y^j)\n",
    "$$\n",
    "\n",
    "\n",
    "\n",
    "/* write equations for $\\theta_1$ and $\\theta_2$ here /\n",
    "$$\n",
    "\\theta_1 = \\theta_1 - \\alpha*x_1^j(\\sum(\\theta_2x_2^j + \\theta_1x_1^j + \\theta_0)-y^j)\n",
    "$$\n",
    "$$\n",
    "\\theta_2 = \\theta_2 - \\alpha*x_2^j(\\sum(\\theta_2x_2^j + \\theta_1*x_1^j + \\theta_0)-y^j)\n",
    "$$\n"
   ]
  },
  {
   "attachments": {},
   "cell_type": "markdown",
   "metadata": {},
   "source": [
    "## Activity 4.2 Compute Parameters using the Gradient Descent Algorithm (L2 loss)\n",
    "Print out the $\\theta_0$, $\\theta_1$ and $\\theta_2$ values for each iteration in your function. You may get different outputs depends on your initial choice of $\\theta_0$, $\\theta_1$ and $\\theta_2$ values. We will accept any answers which are close to the sample output."
   ]
  },
  {
   "cell_type": "code",
   "execution_count": 20,
   "metadata": {},
   "outputs": [
    {
     "name": "stdout",
     "output_type": "stream",
     "text": [
      "144 0.018096035460154772\n"
     ]
    }
   ],
   "source": [
    "# given the observed data (obsX,obsY), learning rate (alpha), and desired error threshold, \n",
    "# the function returns theta0, theta1 and theta2 when it reaches the error threshold.\n",
    "# The convergence is reached when the abs(newError - oldError) is less than the threshold.\n",
    "\n",
    "# BEGIN ANSWER\n",
    "def h3(theta0, theta1, theta2, x):\n",
    "    return (theta0 + theta1 * x[0] + theta2 * x[1])\n",
    "\n",
    "def newL2(theta0, theta1, theta2, x):\n",
    "    return ((h3(theta0, theta1, theta2, x) - y)**2).mean()\n",
    "    \n",
    "def gd22(obsX, obsY, alpha, threshold):\n",
    "    \"\"\"\n",
    "    Input : observed vectors X, Y, alpha and threshold\n",
    "    Return theta0, theta1, theta2 from Gradient Descent L2 loss algorithm\n",
    "    Return: Iterations and L2 Error\n",
    "    \"\"\"\n",
    "    theta0 = 0\n",
    "    theta1 = 0\n",
    "    theta2 = 0\n",
    "    dtheta0 = 0\n",
    "    dtheta1 = 0\n",
    "    dtheta2 = 0\n",
    "    change = 1000000 \n",
    "    oldError =0\n",
    "    newError =0\n",
    "    iterations=0 \n",
    "    while (change>threshold):\n",
    "        oldError= newError\n",
    "        theta0 = theta0-alpha *((theta2 * obsX[1]+theta1 * obsX[0] + theta0 - obsY).mean())\n",
    "        theta1 = theta1-alpha*obsX[0]*((theta2 * obsX[1]+theta1 * obsX[0] + theta0 - obsY).mean())\n",
    "        theta2 = theta2-alpha*obsX[1]*((theta2 * obsX[1]+theta1 * obsX[0] + theta0 - obsY).mean())\n",
    "        newError = newL2(theta0, theta1, theta2, obsX)\n",
    "        change = abs (newError - oldError)\n",
    "        iterations=iterations+1\n",
    "    return theta0, theta1, theta2, newError, iterations\n",
    "\n",
    "    \n",
    "# END ANSWER\n",
    "\n",
    "[theta0,theta1,theta2, newError,iterations] = gd22(x,y,0.01,0.0001)\n",
    "print(iterations, newError)"
   ]
  },
  {
   "attachments": {},
   "cell_type": "markdown",
   "metadata": {},
   "source": [
    "Write the values of thetas obtained from function above.\n",
    "$$\\theta_0 =$$ \n",
    "$$\\theta_1 =$$ \n",
    "$$\\theta_2 =$$ \n",
    "and write the model \n",
    "$$\n",
    "y = \\theta_2*x_2 + \\theta_1*x_1 + \\theta_0\n",
    "$$"
   ]
  },
  {
   "attachments": {},
   "cell_type": "markdown",
   "metadata": {},
   "source": [
    "## Activity 4.3 Compare Coefficients with Library Estimators\n",
    "Now use the sklearn LinearRegression module to automate the process of finding coefficients. "
   ]
  },
  {
   "cell_type": "code",
   "execution_count": 21,
   "metadata": {},
   "outputs": [
    {
     "name": "stdout",
     "output_type": "stream",
     "text": [
      "[0.45718158 0.36702939]\n",
      "0.09096981082366068\n"
     ]
    }
   ],
   "source": [
    "# fit a regression model\n",
    "import pandas as pd\n",
    "import numpy as np\n",
    "from sklearn import metrics\n",
    "from sklearn.linear_model import LinearRegression\n",
    "from sklearn.metrics import r2_score\n",
    "# assume\n",
    "\n",
    "Y = y\n",
    "X = np.stack(x)\n",
    "Y = np.array(Y)\n",
    "X = X.reshape(2, -1).T\n",
    "Y = Y.reshape(-1)\n",
    "# len(X)\n",
    "\n",
    "model = LinearRegression().fit(X, y)\n",
    "model\n",
    "print(model.coef_)\n",
    "libtheta1,libtheta2 = model.coef_\n",
    "print(model.intercept_)\n",
    "libtheta0 = model.intercept_"
   ]
  },
  {
   "attachments": {},
   "cell_type": "markdown",
   "metadata": {},
   "source": [
    "What coefficients do you get? Are they close to what you received from gradient descent? ]Is that error smaller or bigger than the squared error you received?\n",
    "\n",
    "##### Begin Answer\n",
    "my coefficients were 0.45718158 0.36702939. They are close at all.\n",
    "and the error is : 0.09096981082366068 which is _____ \n",
    "##### End Answer"
   ]
  },
  {
   "attachments": {},
   "cell_type": "markdown",
   "metadata": {},
   "source": [
    "## Activity 4.4.1 - Predict the Housing Price using test set data - gradient descent\n",
    "Use the test set to find the estimated value of the home $y$ using coefficients received from gradient descent. Defined the average error as 1/m * $\\sum$ abs(predicted - actual) where m is the size of the test data set."
   ]
  },
  {
   "cell_type": "code",
   "execution_count": 27,
   "metadata": {},
   "outputs": [
    {
     "name": "stdout",
     "output_type": "stream",
     "text": [
      "[0.17351949 0.57010297 0.64839304 0.50356793 0.58177623 0.3062715\n",
      " 0.37831638 0.47475295 0.01500207 0.6947626  0.23922023 0.51721249\n",
      " 0.23037443 0.51635224 0.5424786  0.56332583 0.70652067 0.46112775\n",
      " 0.42223597 0.31432184 0.66445539 0.44637862 0.54257358 0.37558894\n",
      " 0.67402757 1.         0.42667793 0.15871402 0.63827348 0.95013835\n",
      " 0.15481262 0.61937325 0.59479583 0.59840062 0.12912921 0.49594159\n",
      " 0.50290579 0.35217912 0.31783127 0.3987405  0.53195876 0.53673448\n",
      " 0.05602718 0.72274    0.4876456  0.41449913 0.68349309 0.49613794\n",
      " 0.66573096 0.72109373 0.44328129 0.63101124 0.28637789 0.70004202\n",
      " 0.20474076 0.65001443 0.3761349  0.4372987  0.47389944 0.03323073\n",
      " 0.53480538 0.39709602 0.53657614 0.47227714 0.62444075 0.47769574\n",
      " 0.39807865 0.51913006 0.66724804 0.54468565 0.17160938 0.53416089\n",
      " 0.83534517 0.48439173 0.42951431 0.6620628  0.46387616 0.39387856\n",
      " 0.55788766 0.39846655 0.29629035 0.61219051 0.5718321  0.59294452\n",
      " 0.43938687 0.59047081 0.58470668 0.57356312 0.49908065 0.60824531\n",
      " 0.35132855 0.63744596 0.31506816 0.70644679 0.44507123 0.67566074\n",
      " 0.52228504 0.57468054 0.39988554 0.78257476 0.71906494 0.34370364\n",
      " 0.3592533  0.58005008 0.48768615 0.58887362 0.5746744  0.62877321\n",
      " 0.3181541  0.55471523 0.79639481 0.50321475 0.69004796 0.62603314\n",
      " 0.41353705 0.48263288 0.5237303  0.68399394 0.49787801 0.64304285\n",
      " 0.35125111 0.2367504  0.62749624 0.59779921 0.46418252 0.60522347\n",
      " 0.55096439 0.45220964 0.0725898  0.72125609 0.50198609 0.4404274\n",
      " 0.51862808 0.31363257 0.50137022 0.51850507 0.39294207 0.4339471\n",
      " 0.57565807 0.74263123 0.49872047 0.76392977 0.45578752 0.58234937\n",
      " 0.54436096 0.         0.64443703 0.36931263 0.48669056 0.4663817\n",
      " 0.66196829 0.37577902 0.81164132 0.59339478 0.88542903 0.40323248\n",
      " 0.4149515  0.44106123 0.4445861  0.70197638 0.60838947 0.63279146\n",
      " 0.47153456 0.70276573 0.27395898 0.68180049 0.63364494 0.66285754\n",
      " 0.54462815 0.45168639 0.77169182 0.31147302 0.56432001 0.73771566\n",
      " 0.67429416 0.34401961 0.4200409  0.18625049 0.56646245 0.38228965\n",
      " 0.47380709 0.46925593 0.40139696 0.57439171 0.64800332 0.45385484\n",
      " 0.41022631 0.63746619 0.34128853 0.72944457 0.29598229 0.24131065\n",
      " 0.42272622 0.34438899 0.46078203 0.60253686 0.20661156 0.4079681\n",
      " 0.69492293 0.47096384 0.5700414  0.82181419 0.64169041 0.66753131\n",
      " 0.13091877 0.3362772  0.49631921 0.38306425 0.69279742 0.59572746\n",
      " 0.55397857 0.57934677 0.54338275 0.73740364 0.85658048 0.16707419\n",
      " 0.42329412 0.71698892 0.65630136 0.38058001 0.43538772 0.42293341\n",
      " 0.62612352 0.38251564 0.48723878 0.43450577 0.23638595 0.43582863\n",
      " 0.8585647  0.62235845 0.65571221 0.45521074 0.72050763 0.53806988\n",
      " 0.82439937 0.58580315 0.60046923 0.80873346 0.58085174 0.69629789\n",
      " 0.50846153 0.46074456 0.72934849 0.6471163  0.36149764 0.52439297\n",
      " 0.41413321 0.27276871 0.46562705 0.49977183 0.61375475 0.39808631\n",
      " 0.79750117 0.6563811  0.46439898 0.30940367 0.26017916 0.48332481\n",
      " 0.52818535 0.23715522 0.40756169 0.41282271 0.51857105 0.5743413\n",
      " 0.2968672  0.63995572 0.35235905 0.47343079 0.37611282 0.26714614\n",
      " 0.68186629 0.53707003 0.74505548 0.3969277  0.61565434 0.37582862\n",
      " 0.243702   0.69220014 0.82176908 0.21756368 0.75927953 0.57618956\n",
      " 0.61225552 0.52319125 0.47791138 0.29604021 0.56418856 0.31481295\n",
      " 0.5242933  0.4714703  0.85221071 0.41470039 0.37193025 0.61533395\n",
      " 0.4384402  0.35953401 0.54698311 0.78766075 0.4212854  0.61014972\n",
      " 0.67318038 0.44477567 0.73159541 0.58263087 0.40769754 0.30376468\n",
      " 0.23589255 0.01584656 0.49094031 0.67592125 0.43648073 0.71397459\n",
      " 0.07645043 0.19245016 0.26427026 0.44044714 0.60834247 0.37921968\n",
      " 0.42197604 0.23853833 0.48229067 0.46586802 0.38272645 0.41621305\n",
      " 0.64599459 0.39343582 0.36642749 0.49342459 0.16455848 0.4462132\n",
      " 0.95035143 0.51339747 0.70670869 0.22718662 0.63989358 0.25555462\n",
      " 0.70940478 0.54197568 0.63832411 0.62276684 0.6637128  0.34875269\n",
      " 0.82262826 0.46549467 0.62204044 0.44765946 0.34170106 0.81085334\n",
      " 0.18501476 0.64295285 0.73193546 0.94749125 0.55655857 0.4458185\n",
      " 0.624662   0.47306549 0.17023747 0.76011069 0.73869205 0.87828656\n",
      " 0.84206171 0.64509861 0.60324126 0.61041923 0.5143305  0.27668713\n",
      " 0.63567054 0.57887404 0.36170997 0.4126166  0.46882306 0.29684537\n",
      " 0.24883315 0.84672635 0.27448451 0.57283253 0.66676744 0.44798595\n",
      " 0.24862351 0.7019682  0.33896509 0.74048779 0.51581957 0.55863859\n",
      " 0.52928337 0.45375245 0.20940739 0.45927236 0.47441289 0.20798413\n",
      " 0.48110672 0.4509176  0.54809903 0.50946795 0.55476024 0.62792766\n",
      " 0.75877069 0.6462249  0.85787448 0.87030811 0.40223916 0.47756612\n",
      " 0.46805339 0.48225552 0.60021099 0.6312847  0.35767413 0.84737343\n",
      " 0.79175317 0.11416617 0.68678593 0.30246221 0.46677287 0.3231041\n",
      " 0.61723027 0.48597128 0.36085812 0.3980015  0.16772362 0.23358032\n",
      " 0.74782163 0.50361472 0.374155   0.75316781 0.40126766 0.10729112\n",
      " 0.50794314 0.41383235 0.38299478 0.59465725 0.27949687 0.75660797\n",
      " 0.70252019 0.69511058 0.48344407 0.54249036 0.65846652 0.30496209\n",
      " 0.517368   0.24907238 0.36248539 0.60640626 0.15951168 0.36297611\n",
      " 0.53825264 0.84970255 0.53127649 0.46515083 0.22155773 0.50330733\n",
      " 0.50982679 0.9239034  0.6709757  0.51703505 0.34327265 0.23658756\n",
      " 0.4302669  0.30852966 0.63891547 0.74464107 0.76541071 0.48037942\n",
      " 0.68734876 0.44794268 0.74211946 0.77223366 0.69060571 0.51813548\n",
      " 0.28613703 0.43836141 0.43274489 0.39810384 0.70353526 0.49185249\n",
      " 0.37701449 0.59277211 0.20540303 0.43667986 0.56818748 0.44045261\n",
      " 0.24042834 0.3514923  0.3879328  0.26949116 0.55257495 0.6007427\n",
      " 0.2282025  0.45370961 0.17701391 0.69455327 0.29871409 0.35136776\n",
      " 0.96703318 0.34674515 0.3142792  0.37183202 0.69492008 0.86341619\n",
      " 0.75517903 0.77699965]\n"
     ]
    },
    {
     "ename": "ValueError",
     "evalue": "operands could not be broadcast together with shapes (4500,) (1,500) ",
     "output_type": "error",
     "traceback": [
      "\u001b[0;31m---------------------------------------------------------------------------\u001b[0m",
      "\u001b[0;31mValueError\u001b[0m                                Traceback (most recent call last)",
      "\u001b[0;32m<ipython-input-27-66b21aba59a4>\u001b[0m in \u001b[0;36m<module>\u001b[0;34m\u001b[0m\n\u001b[1;32m     10\u001b[0m \u001b[0my\u001b[0m \u001b[0;34m=\u001b[0m \u001b[0mY_scaled_values\u001b[0m\u001b[0;34m.\u001b[0m\u001b[0mtranspose\u001b[0m\u001b[0;34m(\u001b[0m\u001b[0;34m)\u001b[0m\u001b[0;34m\u001b[0m\u001b[0;34m\u001b[0m\u001b[0m\n\u001b[1;32m     11\u001b[0m \u001b[0;34m\u001b[0m\u001b[0m\n\u001b[0;32m---> 12\u001b[0;31m \u001b[0merror_gs\u001b[0m \u001b[0;34m=\u001b[0m \u001b[0mabs\u001b[0m\u001b[0;34m(\u001b[0m\u001b[0mtheta0\u001b[0m \u001b[0;34m+\u001b[0m \u001b[0mtheta1\u001b[0m \u001b[0;34m*\u001b[0m \u001b[0mx\u001b[0m\u001b[0;34m[\u001b[0m\u001b[0;36m0\u001b[0m\u001b[0;34m]\u001b[0m \u001b[0;34m+\u001b[0m \u001b[0mtheta2\u001b[0m \u001b[0;34m*\u001b[0m \u001b[0mx\u001b[0m\u001b[0;34m[\u001b[0m\u001b[0;36m1\u001b[0m\u001b[0;34m]\u001b[0m \u001b[0;34m-\u001b[0m \u001b[0my\u001b[0m\u001b[0;34m)\u001b[0m\u001b[0;34m.\u001b[0m\u001b[0mmean\u001b[0m\u001b[0;34m(\u001b[0m\u001b[0;34m)\u001b[0m\u001b[0;34m\u001b[0m\u001b[0;34m\u001b[0m\u001b[0m\n\u001b[0m\u001b[1;32m     13\u001b[0m \u001b[0;34m\u001b[0m\u001b[0m\n\u001b[1;32m     14\u001b[0m \u001b[0;31m## End ANSWER\u001b[0m\u001b[0;34m\u001b[0m\u001b[0;34m\u001b[0m\u001b[0;34m\u001b[0m\u001b[0m\n",
      "\u001b[0;31mValueError\u001b[0m: operands could not be broadcast together with shapes (4500,) (1,500) "
     ]
    }
   ],
   "source": [
    "## Begin ANSWER\n",
    "X_scaled_values = scaler.fit_transform(df_testing[['Avg. Area House Age','Avg. Area Number of Rooms']])\n",
    "# Y_scaled_values = scaler.fit_transform(df_adjusted[['Avg. Area Number of Rooms']])\n",
    "Y_scaled_values = scaler.fit_transform(df_testing[['Price']])\n",
    "X_scaled_values[0].size\n",
    "### END ANSWER\n",
    "x = X_scaled_values.transpose()[0,:]\n",
    "# print(x)\n",
    "# print(y)\n",
    "y = Y_scaled_values.transpose()\n",
    "\n",
    "error_gs = abs(theta0 + theta1 * x[0] + theta2 * x[1] - y).mean()\n",
    "\n",
    "## End ANSWER\n",
    "error_gd = print(abs(error_gs))"
   ]
  },
  {
   "attachments": {},
   "cell_type": "markdown",
   "metadata": {},
   "source": [
    "## Activity 4.4.2 - Predict the Housing Price using test set data - library estimator\n",
    "Use the test set to find the estimated value of the home $y$ using coefficients received from library estimators. Defined the averge error as 1/m * $\\sum$ abs(predicted - actual) where m is the size of the test data set."
   ]
  },
  {
   "cell_type": "code",
   "execution_count": null,
   "metadata": {},
   "outputs": [],
   "source": [
    "## Begin ANSWER\n",
    "error_lib = abs(libtheta0 + libtheta1 * x[0] + libtheta2 * x[1] - y).mean()\n",
    "\n",
    "## End ANSWER\n",
    "error_lib = print(abs(error_lib))"
   ]
  },
  {
   "attachments": {},
   "cell_type": "markdown",
   "metadata": {},
   "source": [
    ""
   ]
  }
 ],
 "metadata": {
  "kernelspec": {
   "display_name": "Python 3",
   "language": "python",
   "name": "python3"
  },
  "language_info": {
   "codemirror_mode": {
    "name": "ipython",
    "version": 3
   },
   "file_extension": ".py",
   "mimetype": "text/x-python",
   "name": "python",
   "nbconvert_exporter": "python",
   "pygments_lexer": "ipython3",
   "version": "3.9.5"
  }
 },
 "nbformat": 4,
 "nbformat_minor": 4
}
